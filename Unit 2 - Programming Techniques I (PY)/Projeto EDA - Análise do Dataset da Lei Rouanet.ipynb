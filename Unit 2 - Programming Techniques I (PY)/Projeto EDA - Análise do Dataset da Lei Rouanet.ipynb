{
 "cells": [
  {
   "cell_type": "markdown",
   "id": "021a5304-43ef-478a-9d74-268a00db8fee",
   "metadata": {},
   "source": [
    "# Sobre o projeto\n",
    "\n",
    "Este projeto oferece a oportunidade de compreender melhor a distribuição de recursos culturais por meio da Lei Rouanet e extrair insights significativos sobre a diversidade e impacto dos projetos financiados. \n",
    "\n",
    "**Objetivo do projeto**\n",
    "\n",
    "Realizar uma análise exploratória de dados (EDA) no conjunto de dados da Lei Rouanet, buscando compreender padrões, tendências e insights relacionados aos projetos culturais financiados por meio dessa lei de incentivo à cultura no Brasil.\n",
    "\n",
    "## Passos do projeto\n",
    "\n",
    "**1. Coleta e Carregamento dos Dados**\n",
    "\n",
    "- Obter o dataset da Lei Rouanet, disponibilizado pelo Ministério da Cultura ou por fontes confiáveis relacionadas.\n",
    "- Carregar os dados em um DataFrame do pandas.\n",
    "\n",
    "**2. Exploração Inicial**\n",
    "\n",
    "- Fazer uma exploração inicial para entender a estrutura do dataset, tipos de variáveis e dados disponíveis.\n",
    "\n",
    "**3. Limpar e preparar os dados**\n",
    "\n",
    "- Tratar valores ausentes, inconsistências ou duplicatas.\n",
    "- Converter datas para o formato adequado.\n",
    "- Analisar e ajustar categorias relevantes.\n",
    "\n",
    "**4. Analisar a distribuição de recursos**\n",
    "\n",
    "- Explorar a distribuição de recursos financeiros ao longo do tempo.\n",
    "- Identificar os projetos que receberam a maior e menor quantidade de financiamento.\n",
    "\n",
    "**5. Segmentação por áreas culturais**\n",
    "\n",
    "- Classificar os projetos por categorias culturais (música, artes cênicas, audiovisual, etc.).\n",
    "- Analisar a distribuição de recursos por essas diferentes áreas.\n",
    "\n",
    "**6. Participação geográfica**\n",
    "\n",
    "- Visualizar a participação geográfica dos projetos. Qual região do Brasil recebeu mais incentivos culturais?\n",
    "\n",
    "**7. Evolução ao longo dos anos**\n",
    "\n",
    "- Criar gráficos de linha ou de área para mostrar a evolução do número de projetos financiados e do montante investido ao longo dos anos.\n",
    "\n",
    "**8. Análise de contrapartidas**\n",
    "\n",
    "- Explorar as contrapartidas oferecidas pelos proponentes dos projetos. Quais tipos de contrapartidas são mais comuns?\n",
    "\n",
    "**9. Influência de grandes projetos**\n",
    "\n",
    "- Identificar e analisar grandes projetos que receberam um montante significativo de financiamento. Como esses projetos influenciam a distribuição geral?\n",
    "\n",
    "**10. Análise de sucesso**\n",
    "\n",
    "- Definir critérios para o sucesso de um projeto (por exemplo, avaliação do público, impacto cultural) e explorar quais características estão associadas a projetos bem-sucedidos.\n",
    "\n",
    "**11. Conclusões e insights**\n",
    "\n",
    "- Resumir as principais descobertas do projeto.\n",
    "- Identificar padrões interessantes, tendências ao longo do tempo e qualquer insight que possa ser valioso para as partes interessadas e tomadores de decisão.\n",
    "\n",
    "## Ferramentas utilizadas\n",
    "\n",
    "- Python (pandas, numpy, matplotlib)\n",
    "- Jupyter Notebook para documentação e visualização interativa."
   ]
  },
  {
   "cell_type": "code",
   "execution_count": 90,
   "id": "ad7ad2a3-823f-4a1f-9073-ce7c7c07f3d3",
   "metadata": {},
   "outputs": [],
   "source": [
    "# criei um script para extração dos dados\n",
    "# a partir daqui está a limpeza e análise dos dados"
   ]
  },
  {
   "cell_type": "code",
   "execution_count": null,
   "id": "6c57d808-1bb7-45a8-a416-5eb08d2c2884",
   "metadata": {},
   "outputs": [],
   "source": []
  },
  {
   "cell_type": "code",
   "execution_count": null,
   "id": "794730bb-ab4d-4e6c-940b-042c8be0e8ec",
   "metadata": {},
   "outputs": [],
   "source": []
  }
 ],
 "metadata": {
  "kernelspec": {
   "display_name": "Python 3 (ipykernel)",
   "language": "python",
   "name": "python3"
  },
  "language_info": {
   "codemirror_mode": {
    "name": "ipython",
    "version": 3
   },
   "file_extension": ".py",
   "mimetype": "text/x-python",
   "name": "python",
   "nbconvert_exporter": "python",
   "pygments_lexer": "ipython3",
   "version": "3.12.1"
  }
 },
 "nbformat": 4,
 "nbformat_minor": 5
}
