{
 "cells": [
  {
   "cell_type": "markdown",
   "id": "0e76d1f9-3253-4e44-ba22-fe1c64e55e37",
   "metadata": {},
   "source": [
    "# O que é a Lei Rouanet\n",
    "\n",
    "Principal mecanismo de fomento à Cultura do Brasil, a Lei Rouanet, como é conhecida a Lei 8.313/91, instituiu o Programa Nacional de Apoio à Cultura (Pronac). O nome Rouanet remete a seu criador, o então secretário Nacional de Cultura, o diplomata Sérgio Paulo Rouanet. Para cumprir este objetivo, a lei estabelece as normativas de como o Governo Federal deve disponibilizar recursos para a realização de projetos artístico-culturais. A Lei foi concebida originalmente com três mecanismos: o Fundo Nacional da Cultura (FNC), o Incentivo Fiscal e o Fundo de Investimento Cultural e Artístico (Ficart). Este nunca foi implementado, enquanto o Incentivo Fiscal - também chamado de mecenato - prevaleceu e chega ser confundido com a própria Lei."
   ]
  },
  {
   "cell_type": "markdown",
   "id": "141b5690-56a5-4de7-8332-1642f835faa1",
   "metadata": {},
   "source": [
    "# Sobre o projeto\n",
    "\n",
    "Este projeto oferece a oportunidade de compreender melhor a distribuição de recursos culturais por meio da Lei Rouanet e extrair insights significativos sobre a diversidade e impacto dos projetos financiados. \n",
    "\n",
    "**Objetivo do projeto**\n",
    "\n",
    "Realizar uma análise exploratória de dados (EDA) no conjunto de dados da Lei Rouanet, buscando compreender padrões, tendências e insights relacionados aos projetos culturais financiados por meio dessa lei de incentivo à cultura no Brasil.\n",
    "\n",
    "## Passos do projeto\n",
    "\n",
    "### 1. Coletar e Carregar os Dados\n",
    "\n",
    "- Obter o dataset da Lei Rouanet, disponibilizado pelo Ministério da Cultura [(SALIC)](https://api.salic.cultura.gov.br/doc/)\n",
    "- Carregar os dados em um DataFrame do pandas.\n",
    "\n",
    "### 2. Realizar uma Exploração Inicial\n",
    "\n",
    "- Fazer uma exploração inicial para entender a estrutura do dataset, tipos de variáveis e dados disponíveis.\n",
    "\n",
    "### 3. Limpar e preparar os dados\n",
    "\n",
    "- Tratar valores ausentes, inconsistências ou duplicatas.\n",
    "- Converter datas para o formato adequado.\n",
    "- Analisar, criar e ajustar categorias relevantes.\n",
    "\n",
    "### 4. Analisar\n",
    "\n",
    "**4.1. Analisar a distribuição de recursos**\n",
    "\n",
    "- Explorar a distribuição de recursos financeiros ao longo do tempo.\n",
    "- Identificar os projetos que receberam a maior e menor quantidade de financiamento.\n",
    "\n",
    "**4.2. Segmentação por áreas culturais**\n",
    "\n",
    "- Classificar os projetos por categorias culturais (música, artes cênicas, audiovisual, etc.).\n",
    "- Analisar a distribuição de recursos por essas diferentes áreas.\n",
    "\n",
    "**4.3. Participação geográfica**\n",
    "\n",
    "- Visualizar a participação geográfica dos projetos. Qual região do Brasil recebeu mais incentivos culturais?\n",
    "\n",
    "**4.4. Evolução ao longo dos anos**\n",
    "\n",
    "- Criar gráficos de linha ou de área para mostrar a evolução do número de projetos financiados e do montante investido ao longo dos anos.\n",
    "\n",
    "**4.5. Influência de grandes projetos**\n",
    "\n",
    "- Identificar e analisar grandes projetos que receberam um montante significativo de financiamento. Como esses projetos influenciam a distribuição geral?\n",
    "\n",
    "<!-- **4.5. Análise de contrapartidas**\n",
    "\n",
    "- Explorar as contrapartidas oferecidas pelos proponentes dos projetos. Quais tipos de contrapartidas são mais comuns? -->\n",
    "\n",
    "<!-- **4.6. Análise de sucesso**\n",
    "\n",
    "- Definir critérios para o sucesso de um projeto (por exemplo, avaliação do público, impacto cultural) e explorar quais características estão associadas a projetos bem-sucedidos. -->\n",
    "\n",
    "### 5. Concluir\n",
    "\n",
    "- Resumir as principais descobertas do projeto.\n",
    "- Identificar padrões interessantes, tendências ao longo do tempo e qualquer insight que possa ser valioso para as partes interessadas e tomadores de decisão.\n",
    "\n",
    "## Ferramentas utilizadas\n",
    "\n",
    "- Python (pandas, numpy, geobr, matplotlib e seaborn)\n",
    "- Jupyter Notebook para documentação e visualização interativa.\n",
    "\n",
    "# Análise de Dados Exploratória\n",
    "\n",
    "<!-- Fontes:\n",
    "- https://www.linkedin.com/pulse/entenda-o-que-%C3%A9-lei-rouanet-ficarte-fnc-e-oque-fiscal-oliveira/?originalSubdomain=pt\n",
    "- https://www.gov.br/cultura/pt-br/centrais-de-conteudo/marcas-e-logotipos/copy_of_ManualdoProponenteMduloIApresentaodePropostas1.pdf\n",
    "- https://portaldoincentivo.com.br/visitors/incentive_laws/1 -->\n",
    "\n",
    "### 1. Coletar e Carregar os Dados\n",
    "\n",
    "**Obter o dataset da Lei Rouanet, disponibilizado pelo Ministério da Cultura [(SALIC)](https://api.salic.cultura.gov.br/doc/)**\n",
    "\n",
    "Desenvolvi um script utilizando as bibliotecas os,  request, port eimport ppara extrair os dados da API referentes aos projetos, propostas, proponentes, incentivadores e fornecedores. Os dados foram salvos em arquivos no formato .xsls. Devido ao seu tamanho, não puderam ser hospedados neste repositório, e, portanto, inclui eles no Googre Drive e compartilhei os links em um arquivo .csv. \n",
    "\n",
    "Os arquivos podem ser baixados manualmente, ou utilizando um script que desenvolvi utilizando as bibliotecas os e gdown. \n",
    "\n",
    "**Carregar os dados em um DataFrame do pandas.**"
   ]
  },
  {
   "cell_type": "code",
   "execution_count": 1,
   "id": "6c57d808-1bb7-45a8-a416-5eb08d2c2884",
   "metadata": {},
   "outputs": [],
   "source": [
    "from os import path\n",
    "\n",
    "import numpy as np\n",
    "import pandas as pd\n",
    "\n",
    "import geobr\n",
    "import warnings\n",
    "\n",
    "import matplotlib as mpl\n",
    "import matplotlib.pyplot as plt\n",
    "%matplotlib inline\n",
    "\n",
    "import seaborn as sns\n",
    "import seaborn.objects as so"
   ]
  },
  {
   "cell_type": "code",
   "execution_count": 2,
   "id": "a925603b-41ee-4f5c-a559-c2afe30d2306",
   "metadata": {},
   "outputs": [],
   "source": [
    "projetos = pd.read_excel(path.abspath(\"datasets/projetos.xlsx\"))\n",
    "propostas = pd.read_excel(path.abspath(\"datasets/propostas.xlsx\"))\n",
    "proponentes = pd.read_excel(path.abspath(\"datasets/proponentes.xlsx\"))\n",
    "incentivadores = pd.read_excel(path.abspath(\"datasets/incentivadores.xlsx\"))\n",
    "fornecedores = pd.read_excel(path.abspath(\"datasets/fornecedores.xlsx\"))"
   ]
  },
  {
   "cell_type": "markdown",
   "id": "98ab4924-691f-4efc-825f-7ca206146786",
   "metadata": {},
   "source": [
    "### 2. Realizar uma Exploração Inicial\n",
    "\n",
    "**Fazer uma exploração inicial para entender a estrutura do dataset, tipos de variáveis e dados disponíveis.**\n",
    "\n",
    "Começando pelos projetos...\n",
    "\n",
    "Colunas interessantes para a análise de dados: \n",
    "\n",
    "- `providencia` `situacao`\n",
    "- `area` `segmento`\n",
    "- `mecanismo`\n",
    "- `_links`\n",
    "- `valor_aprovado` `valor_projeto` `valor_captado` `valor_proposta`\n",
    "- `UF` `municipio`\n",
    "- `ano_projeto` `data_termino` `data_inicio`\n",
    "- `impacto_ambiental`\n",
    "- `proponente`"
   ]
  },
  {
   "cell_type": "code",
   "execution_count": 3,
   "id": "c0d6cf10-82a2-490c-99e0-646567ae2c38",
   "metadata": {
    "scrolled": true
   },
   "outputs": [
    {
     "data": {
      "text/plain": [
       "Index(['etapa', 'providencia', 'area', 'enquadramento', 'objetivos',\n",
       "       'ficha_tecnica', 'situacao', 'outras_fontes', 'acessibilidade',\n",
       "       'sinopse', 'nome', 'cgccpf', 'mecanismo', '_links', 'segmento',\n",
       "       'PRONAC', 'estrategia_execucao', 'valor_aprovado', 'justificativa',\n",
       "       'resumo', 'valor_solicitado', 'especificacao_tecnica', 'municipio',\n",
       "       'data_termino', 'UF', 'impacto_ambiental', 'democratizacao',\n",
       "       'valor_projeto', 'proponente', 'ano_projeto', 'data_inicio',\n",
       "       'valor_captado', 'valor_proposta'],\n",
       "      dtype='object')"
      ]
     },
     "execution_count": 3,
     "metadata": {},
     "output_type": "execute_result"
    }
   ],
   "source": [
    "projetos.columns"
   ]
  },
  {
   "cell_type": "markdown",
   "id": "cdc42778-f6e4-457a-9a57-738ec4be2482",
   "metadata": {},
   "source": [
    "### 3. Limpar e preparar os dados\n",
    "\n",
    "**Tratar valores ausentes, inconsistências ou duplicatas.**"
   ]
  },
  {
   "cell_type": "code",
   "execution_count": null,
   "id": "82560790-3ba0-497d-af05-e0a36981c3f7",
   "metadata": {},
   "outputs": [],
   "source": []
  },
  {
   "cell_type": "markdown",
   "id": "7290d4cd-33b6-4b36-a4b9-c253e819962e",
   "metadata": {},
   "source": [
    "**Converter datas para o formato adequado.**"
   ]
  },
  {
   "cell_type": "code",
   "execution_count": null,
   "id": "b31e4e33-2b60-48be-bd17-851f0bc4b8e0",
   "metadata": {},
   "outputs": [],
   "source": []
  },
  {
   "cell_type": "markdown",
   "id": "ed110eb0-458a-4bd6-83c9-90c6a4e34095",
   "metadata": {},
   "source": [
    "**Analisar, criar e ajustar categorias relevantes.**"
   ]
  },
  {
   "cell_type": "markdown",
   "id": "38885b66-317f-4640-955a-88a0e0ed2fe9",
   "metadata": {},
   "source": [
    "Dividir estados por regiões do Brasil."
   ]
  },
  {
   "cell_type": "code",
   "execution_count": null,
   "id": "16dad56b-e0c0-459e-9cb4-f6c7041b0e5e",
   "metadata": {},
   "outputs": [],
   "source": []
  },
  {
   "cell_type": "markdown",
   "id": "47f01f89-6c39-4844-97dc-8ed6512310b6",
   "metadata": {},
   "source": [
    "### 4. Analisar\n",
    "\n",
    "#### 4.1. Analisar a distribuição de recursos\n",
    "\n",
    "**Explorar a distribuição de recursos financeiros ao longo do tempo.**"
   ]
  },
  {
   "cell_type": "code",
   "execution_count": null,
   "id": "de73e99d-11c5-46c0-be2c-c62ea9c3cc4a",
   "metadata": {},
   "outputs": [],
   "source": []
  },
  {
   "cell_type": "markdown",
   "id": "5bdb0619-7028-4b68-a439-ad1d3ef9a8ea",
   "metadata": {},
   "source": [
    "Sobre os mecanismos utilizados pela Lei Rouanet:\n",
    "\n",
    "- Incentivo Fiscal (mecenato)\n",
    "\n",
    "O incentivo é um mecanismo em que a União faculta às pessoas físicas ou jurídicas a opção pela aplicação de parcelas do Imposto sobre a Renda, a título de doações ou patrocínios, no apoio direto a projetos culturais aprovados pelo Ministério da Cultura. Ou seja: o Governo Federal oferece uma ferramenta para que a sociedade possa decidir aplicar parte do dinheiro de seus impostos em ações culturais. Desta maneira, o incentivo fiscal estimula a participação da iniciativa privada, do mercado empresarial e dos cidadãos no aporte de recursos para o campo da cultura, diversificando possibilidades de financiamento, ampliando o volume de recursos destinados ao setor, atribuindo a ele mais potência e mais estratégia econômica.\n",
    "\n",
    "- Fundo Nacional da Cultura (FNC)\n",
    "\n",
    "O Fundo Nacional da Cultura (FNC) representa o investimento direto do Estado no fomento à Cultura, já que o apoio a projetos decorre de recursos do orçamento da União dentre outras fontes, como 3% do valor bruto arrecado pelas loterias federais e doações. O apoio via FNC tem como objetivo promover a distribuição regional dos recursos de forma equilibrada e é voltado aos projetos com maior dificuldade de captação junto ao mercado."
   ]
  },
  {
   "cell_type": "code",
   "execution_count": null,
   "id": "71e3e7f1-345f-46d1-aa5f-e6403303e7ef",
   "metadata": {},
   "outputs": [],
   "source": []
  },
  {
   "cell_type": "markdown",
   "id": "69965197-3fe3-4e6c-b650-a1483f221bb5",
   "metadata": {},
   "source": [
    "**Identificar os projetos que receberam a maior e menor quantidade de financiamento.**"
   ]
  },
  {
   "cell_type": "code",
   "execution_count": null,
   "id": "012c08e5-8c23-440d-8db4-b790c7f8192a",
   "metadata": {},
   "outputs": [],
   "source": []
  },
  {
   "cell_type": "markdown",
   "id": "27d65acd-fef7-42b7-a4a7-c6c5ebc333e0",
   "metadata": {},
   "source": [
    "#### 4.2. Segmentação por áreas culturais\n",
    "\n",
    "**Classificar os projetos por categorias culturais (música, artes cênicas, audiovisual, etc.).**\n",
    "\n",
    "Inicialmente, realizei as contagens dos projetos segmentados por áreas."
   ]
  },
  {
   "cell_type": "code",
   "execution_count": null,
   "id": "ecc8a4dd-5660-4763-af49-1356308596af",
   "metadata": {},
   "outputs": [],
   "source": []
  },
  {
   "cell_type": "markdown",
   "id": "aec5c8a0-5792-4b47-be98-1814f25e0f77",
   "metadata": {},
   "source": [
    "**Analisar a distribuição de recursos por essas diferentes áreas**"
   ]
  },
  {
   "cell_type": "code",
   "execution_count": null,
   "id": "87eaf8d3-78b9-4431-afdd-3adc621e206b",
   "metadata": {},
   "outputs": [],
   "source": []
  },
  {
   "cell_type": "markdown",
   "id": "45c25a03-aac9-494d-af5f-bcda3588ddea",
   "metadata": {},
   "source": [
    "#### 4.3. Participação geográfica\n",
    "\n",
    "**Visualizar a participação geográfica dos projetos.**\n",
    "\n",
    "Inicialmente, realizei a contagem de projetos por regiões e por estados e plotei os resultados em um gráfico."
   ]
  },
  {
   "cell_type": "code",
   "execution_count": null,
   "id": "454d25e5-ee2c-4a7e-9768-1be954e2f0c9",
   "metadata": {},
   "outputs": [],
   "source": []
  },
  {
   "cell_type": "markdown",
   "id": "14dd1655-cb53-4e17-914d-c5c8ae583b78",
   "metadata": {},
   "source": [
    "#### 4.4. Evolução ao longo dos anos\n",
    "\n",
    "**Criar gráficos de linha ou de área para mostrar a evolução do número de projetos financiados e do montante investido ao longo dos anos.**"
   ]
  },
  {
   "cell_type": "code",
   "execution_count": null,
   "id": "cb9ec86d-0dc8-4885-8cb1-0de8f6c2acf9",
   "metadata": {},
   "outputs": [],
   "source": []
  },
  {
   "cell_type": "markdown",
   "id": "5c814f73-d413-400b-8a1e-454da7eedb30",
   "metadata": {},
   "source": [
    "#### 4.5. Influência de grandes projetos\n",
    "\n",
    "**Identificar e analisar grandes projetos que receberam um montante significativo de financiamento. Como esses projetos influenciam a distribuição geral?**"
   ]
  },
  {
   "cell_type": "code",
   "execution_count": null,
   "id": "5beeb017-fbba-400d-a70a-5d0b4291cea9",
   "metadata": {},
   "outputs": [],
   "source": []
  },
  {
   "cell_type": "markdown",
   "id": "a3ccecd3-4a77-4d6a-be3b-b5e2cfa3fd7d",
   "metadata": {},
   "source": [
    "### 5. Concluir\n",
    "\n",
    "**Resumir as principais descobertas do projeto.**"
   ]
  },
  {
   "cell_type": "code",
   "execution_count": null,
   "id": "3676a2cf-22bb-4574-967e-3ec7eed9e8a5",
   "metadata": {},
   "outputs": [],
   "source": []
  },
  {
   "cell_type": "markdown",
   "id": "3192925e-b2bf-4a96-a0f1-71a6618fc49c",
   "metadata": {},
   "source": [
    "**Identificar padrões interessantes, tendências ao longo do tempo e qualquer insight que possa ser valioso para as partes interessadas e tomadores de decisão.**"
   ]
  },
  {
   "cell_type": "code",
   "execution_count": null,
   "id": "f490a3df-1bc4-4413-bae1-d877bfbd80e2",
   "metadata": {},
   "outputs": [],
   "source": []
  }
 ],
 "metadata": {
  "kernelspec": {
   "display_name": "Python 3 (ipykernel)",
   "language": "python",
   "name": "python3"
  },
  "language_info": {
   "codemirror_mode": {
    "name": "ipython",
    "version": 3
   },
   "file_extension": ".py",
   "mimetype": "text/x-python",
   "name": "python",
   "nbconvert_exporter": "python",
   "pygments_lexer": "ipython3",
   "version": "3.11.7"
  }
 },
 "nbformat": 4,
 "nbformat_minor": 5
}
