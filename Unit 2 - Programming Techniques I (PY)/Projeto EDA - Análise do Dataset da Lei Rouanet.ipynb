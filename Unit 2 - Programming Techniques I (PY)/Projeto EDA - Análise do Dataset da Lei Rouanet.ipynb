{
 "cells": [
  {
   "cell_type": "markdown",
   "id": "0e76d1f9-3253-4e44-ba22-fe1c64e55e37",
   "metadata": {},
   "source": [
    "# O que é a Lei Rouanet\n",
    "\n",
    "A Lei Rouanet, oficialmente denominada Lei 8.313/91, é o principal mecanismo de fomento à cultura no Brasil, instituindo o Programa Nacional de Apoio à Cultura (Pronac). Seu nome é uma homenagem ao seu idealizador, o diplomata Sérgio Paulo Rouanet, então secretário Nacional de Cultura. Essa legislação estabelece as diretrizes para o Governo Federal disponibilizar recursos destinados à realização de projetos artístico-culturais. Originalmente, a Lei Rouanet foi concebida com três mecanismos: o Fundo Nacional da Cultura (FNC), o Incentivo Fiscal e o Fundo de Investimento Cultural e Artístico (Ficart). No entanto, o Ficart nunca foi implementado, enquanto o Incentivo Fiscal, também conhecido como mecenato, se destacou e, muitas vezes, é erroneamente associado como sendo a própria Lei Rouanet."
   ]
  },
  {
   "cell_type": "markdown",
   "id": "2fc2eddd-dd4c-452a-a1c0-5017e1a5d199",
   "metadata": {},
   "source": [
    "###"
   ]
  },
  {
   "cell_type": "markdown",
   "id": "0d981325-822e-4406-a697-0a75fa338c89",
   "metadata": {},
   "source": [
    "# Sobre o projeto\n",
    "\n",
    "Este projeto oferece a oportunidade de compreender melhor a distribuição de recursos culturais por meio da Lei Rouanet e extrair insights significativos sobre a diversidade e impacto dos projetos financiados. \n",
    "\n",
    "**Objetivo do projeto**\n",
    "\n",
    "Realizar uma análise exploratória de dados (EDA) no conjunto de dados da Lei Rouanet (2009-2024), buscando compreender padrões, tendências e insights relacionados aos projetos culturais financiados por meio dessa lei de incentivo à cultura no Brasil.\n",
    "\n",
    "## Passos do projeto\n",
    "\n",
    "### 1. Coletar e Carregar os Dados\n",
    "\n",
    "- Obter o dataset da Lei Rouanet, disponibilizado pelo Ministério da Cultura [(SALIC)](https://api.salic.cultura.gov.br/doc/)\n",
    "- Carregar os dados em um DataFrame do pandas.\n",
    "\n",
    "### 2. Realizar uma Exploração Inicial\n",
    "\n",
    "- Fazer uma exploração inicial para entender a estrutura do dataset, tipos de variáveis e dados disponíveis.\n",
    "\n",
    "### 3. Limpar e preparar os dados\n",
    "\n",
    "- Tratar valores ausentes, inconsistências ou duplicatas.\n",
    "- Analisar, criar e ajustar categorias relevantes.\n",
    "\n",
    "### 4. Analisar\n",
    "\n",
    "**4.1. Segmentação por áreas culturais**\n",
    "\n",
    "- Classificar os projetos por categorias culturais (música, artes cênicas, audiovisual, etc.).\n",
    "- Verificar a distribuição das áreas ao longo dos anos\n",
    "\n",
    "**4.2. Participação geográfica**\n",
    "\n",
    "- Visualizar a participação geográfica dos projetos. Qual região do Brasil recebeu mais incentivos culturais?\n",
    "\n",
    "**4.3. Representividade sociocultural**\n",
    "\n",
    "- Analisar se e como as minorias foram beneficiadas.\n",
    "\n",
    "**4.4. Tipos de financiamento**\n",
    "\n",
    "- Explorar os mecanismos de incentivo à cultura.\n",
    "- Explorar os cálculos de isenção fiscal\n",
    "\n",
    "**4.5. Distribuição de recursos**\n",
    "\n",
    "- Analisar a dificuldade na captação de recursos.\n",
    "- Analisar a distribuição de recursos por categoria.\n",
    "- Analisar a distribuição de recursos por região.\n",
    "- Explorar a distribuição de recursos financeiros ao longo do tempo.\n",
    "- Identificar os projetos que receberam a maior e menor quantidade de financiamento.\n",
    "\n",
    "**4.6. Influência de grandes projetos**\n",
    "\n",
    "- Identificar e analisar grandes projetos que receberam um montante significativo de financiamento. Como esses projetos influenciam a distribuição geral?\n",
    "\n",
    "**4.7. Recorte dos últimos anos**\n",
    "\n",
    "- Refazer algumas análises anteriores considerando apenas os últimos X anos.\n",
    "\n",
    "<!-- **4.8. Análise de sucesso**\n",
    "\n",
    "- Definir critérios para o sucesso de um projeto (por exemplo, avaliação do público, impacto cultural) e explorar quais características estão associadas a projetos bem-sucedidos. -->\n",
    "\n",
    "### 5. Concluir\n",
    "\n",
    "- Resumir as principais descobertas do projeto.\n",
    "- Identificar padrões interessantes, tendências ao longo do tempo e qualquer insight que possa ser valioso para as partes interessadas e tomadores de decisão.\n",
    "\n",
    "## Ferramentas utilizadas\n",
    "\n",
    "- Python (`pandas`, `numpy`, `geobr`, `matplotlib` e `seaborn`)\n",
    "- Jupyter Notebook para documentação e visualização interativa."
   ]
  },
  {
   "cell_type": "markdown",
   "id": "62815b2e-5c18-4057-a4e6-e7082be9fa36",
   "metadata": {},
   "source": [
    "###"
   ]
  },
  {
   "cell_type": "markdown",
   "id": "de12eb02-c9fc-43f3-b3c5-e95eda1ea280",
   "metadata": {},
   "source": [
    "# Análise de Dados Exploratória\n",
    "\n",
    "<!-- Fontes:\n",
    "- https://www.linkedin.com/pulse/entenda-o-que-%C3%A9-lei-rouanet-ficarte-fnc-e-oque-fiscal-oliveira/?originalSubdomain=pt\n",
    "- https://www.gov.br/cultura/pt-br/centrais-de-conteudo/marcas-e-logotipos/copy_of_ManualdoProponenteMduloIApresentaodePropostas1.pdf\n",
    "- https://portaldoincentivo.com.br/visitors/incentive_laws/1 -->\n",
    "\n",
    "### 1. Coletar e Carregar os Dados\n",
    "\n",
    "**Obter o dataset da Lei Rouanet, disponibilizado pelo Ministério da Cultura [(SALIC)](https://api.salic.cultura.gov.br/doc/)**\n",
    "\n",
    "Eu desenvolvi um script utilizando as bibliotecas `os`, `request`, `json` e `pandas` para extrair os dados da API referentes aos projetos, propostas, proponentes, incentivadores e fornecedores. Os dados foram salvos em arquivos no formato `xsls`. Devido ao seu tamanho, não foi possível hospedá-los neste repositório. Em vez disso, eu os incluí em uma pasta no Google Drive e compartilhei os links em um arquivo `csv`. \n",
    "\n",
    "Esses arquivos podem ser baixados manualmente ou usando um script que criei com as bibliotecas `os` e `gdown`. \n",
    "\n",
    "**Carregar os dados em um DataFrame do pandas.**"
   ]
  },
  {
   "cell_type": "code",
   "execution_count": 1,
   "id": "6c57d808-1bb7-45a8-a416-5eb08d2c2884",
   "metadata": {},
   "outputs": [],
   "source": [
    "from os import path\n",
    "\n",
    "import numpy as np\n",
    "import pandas as pd\n",
    "\n",
    "import geobr\n",
    "import warnings\n",
    "\n",
    "import matplotlib as mpl\n",
    "import matplotlib.pyplot as plt\n",
    "%matplotlib inline"
   ]
  },
  {
   "cell_type": "code",
   "execution_count": 2,
   "id": "a925603b-41ee-4f5c-a559-c2afe30d2306",
   "metadata": {},
   "outputs": [],
   "source": [
    "projetos = pd.read_excel(path.abspath(\"datasets/projetos.xlsx\"))\n",
    "proponentes = pd.read_excel(path.abspath(\"datasets/proponentes.xlsx\"))\n",
    "incentivadores = pd.read_excel(path.abspath(\"datasets/incentivadores.xlsx\"))"
   ]
  },
  {
   "cell_type": "markdown",
   "id": "2718abdb-c62f-47be-9432-70b91985ecd3",
   "metadata": {},
   "source": [
    "####"
   ]
  },
  {
   "cell_type": "markdown",
   "id": "98ab4924-691f-4efc-825f-7ca206146786",
   "metadata": {},
   "source": [
    "### 2. Realizar uma Exploração Inicial\n",
    "\n",
    "**Fazer uma exploração inicial para entender a estrutura do dataset, tipos de variáveis e dados disponíveis.**"
   ]
  },
  {
   "cell_type": "code",
   "execution_count": 3,
   "id": "c0d6cf10-82a2-490c-99e0-646567ae2c38",
   "metadata": {
    "scrolled": true
   },
   "outputs": [
    {
     "data": {
      "text/plain": [
       "Index(['etapa', 'providencia', 'area', 'enquadramento', 'objetivos',\n",
       "       'ficha_tecnica', 'situacao', 'outras_fontes', 'acessibilidade',\n",
       "       'sinopse', 'nome', 'cgccpf', 'mecanismo', '_links', 'segmento',\n",
       "       'PRONAC', 'estrategia_execucao', 'valor_aprovado', 'justificativa',\n",
       "       'resumo', 'valor_solicitado', 'especificacao_tecnica', 'municipio',\n",
       "       'data_termino', 'UF', 'impacto_ambiental', 'democratizacao',\n",
       "       'valor_projeto', 'proponente', 'ano_projeto', 'data_inicio',\n",
       "       'valor_captado', 'valor_proposta'],\n",
       "      dtype='object')"
      ]
     },
     "execution_count": 3,
     "metadata": {},
     "output_type": "execute_result"
    }
   ],
   "source": [
    "projetos.columns"
   ]
  },
  {
   "cell_type": "markdown",
   "id": "85f66c1e-592d-4fad-b9f9-921ae55ca7ae",
   "metadata": {},
   "source": [
    "Colunas interessantes para a análise dos **projetos**: \n",
    "\n",
    "- `objetivos` `situacao`\n",
    "- `area`\n",
    "- `mecanismo` `enquadramento`\n",
    "- `valor_aprovado` `valor_projeto` `valor_captado`\n",
    "- `UF` `municipio`\n",
    "- `ano_projeto` `data_termino` `data_inicio`"
   ]
  },
  {
   "cell_type": "code",
   "execution_count": 4,
   "id": "2a5f7492-ad0a-4f35-9670-9b6360421998",
   "metadata": {},
   "outputs": [
    {
     "data": {
      "text/plain": [
       "Index(['nome', 'cgccpf', '_links', 'tipo_pessoa', 'responsavel', 'UF',\n",
       "       'total_captado', 'municipio'],\n",
       "      dtype='object')"
      ]
     },
     "execution_count": 4,
     "metadata": {},
     "output_type": "execute_result"
    }
   ],
   "source": [
    "proponentes.columns"
   ]
  },
  {
   "cell_type": "markdown",
   "id": "f4a62b08-9684-46e5-a62b-43562ae70b51",
   "metadata": {},
   "source": [
    "Colunas interessantes para a análise dos **proponentes**: \n",
    "\n",
    "- `tipo_pessoa`\n",
    "- `responsavel`\n",
    "- `UF` `municipio`\n",
    "- `total_captado`"
   ]
  },
  {
   "cell_type": "code",
   "execution_count": 5,
   "id": "fd162bb1-92e6-4ddb-a064-504c2b511592",
   "metadata": {},
   "outputs": [
    {
     "data": {
      "text/plain": [
       "Index(['nome', 'cgccpf', 'total_doado', '_links', 'tipo_pessoa', 'responsavel',\n",
       "       'UF', 'municipio'],\n",
       "      dtype='object')"
      ]
     },
     "execution_count": 5,
     "metadata": {},
     "output_type": "execute_result"
    }
   ],
   "source": [
    "incentivadores.columns"
   ]
  },
  {
   "cell_type": "markdown",
   "id": "f0a18c97-1d8e-4f9a-9876-842e3a3e959f",
   "metadata": {},
   "source": [
    "Colunas interessantes para a análise dos **incentivadores**: \n",
    "\n",
    "- `nome` `tipo_pessoa`\n",
    "- `total_doado`\n",
    "- `UF` `municipio`"
   ]
  },
  {
   "cell_type": "markdown",
   "id": "c0725956-7f82-426c-b805-2b7be43e4fda",
   "metadata": {},
   "source": [
    "####"
   ]
  },
  {
   "cell_type": "markdown",
   "id": "cdc42778-f6e4-457a-9a57-738ec4be2482",
   "metadata": {},
   "source": [
    "### 3. Limpar e preparar os dados\n",
    "\n",
    "**Tratar valores ausentes, inconsistências ou duplicatas.**\n",
    "\n",
    "Reduzindo os dfs para conter apenas as informações necessárias:"
   ]
  },
  {
   "cell_type": "code",
   "execution_count": 6,
   "id": "82560790-3ba0-497d-af05-e0a36981c3f7",
   "metadata": {},
   "outputs": [],
   "source": [
    "projetos = projetos[[\"providencia\", \"objetivos\", \"situacao\", \"area\", \"mecanismo\", \"enquadramento\",\n",
    "                     \"valor_aprovado\", \"valor_captado\",\n",
    "                     \"UF\", \"municipio\", \"ano_projeto\", \"data_termino\", \"data_inicio\"]].sort_values(\"ano_projeto\")\n",
    "\n",
    "proponentes = proponentes[[\"tipo_pessoa\", \"responsavel\", \"UF\", \"municipio\", \"total_captado\"]].sort_values(\"total_captado\", ascending=False)\n",
    "\n",
    "incentivadores = incentivadores[[\"nome\", \"tipo_pessoa\", \"total_doado\", \"UF\", \"municipio\"]]"
   ]
  },
  {
   "cell_type": "code",
   "execution_count": 7,
   "id": "cd71b8c3-6228-4dbe-8a5b-c9e84de2a4ef",
   "metadata": {},
   "outputs": [],
   "source": [
    "# removendo linhas duplicadas\n",
    "projetos.drop_duplicates(inplace=True)"
   ]
  },
  {
   "cell_type": "code",
   "execution_count": 8,
   "id": "aa1db0aa-646c-4982-a407-a43464137bdb",
   "metadata": {},
   "outputs": [],
   "source": [
    "# removendo projetos com todos os valores menores ou iguais a zero OU indeferidos ou arquivados\n",
    "filtro_valor_aprovado_zerado = projetos[\"valor_aprovado\"] <= 0\n",
    "filtro_valor_captado_zerado = projetos[\"valor_captado\"] <= 0\n",
    "filtro_situacao_negativa = projetos[\"situacao\"].str.lower().str.contains(\"|\".join([\"arquivado\", \"arquivamento\", \"indeferido\", \"inadimplen\"]))\n",
    "conjunto_filtros_negativos = ((filtro_valor_aprovado_zerado & filtro_valor_captado_zerado) | filtro_situacao_negativa)\n",
    "\n",
    "# com exceção daqueles que tiveram captação acima de zero E foram encerrados normalmente\n",
    "filtro_valor_captado_positivo = projetos[\"valor_captado\"] > 0\n",
    "filtro_situacao_positiva = projetos[\"situacao\"].str.lower().str.contains(\"|\".join(['captação/execução encerradas', \"recursos transferidos\"]))\n",
    "conjuntos_filtros_positivos = filtro_valor_captado_positivo & filtro_situacao_positiva\n",
    "\n",
    "projetos = projetos[~(conjunto_filtros_negativos ^ conjuntos_filtros_positivos)]\n",
    "\n",
    "# existem somente 3 projetos arquivados com valor maior que zero\n",
    "# suas providências foram analisadas e confere o arquivamento\n",
    "# teste[(teste[\"situacao\"] == \"Arquivado\") & (teste[\"valor_captado\"] > 0)][\"providencia\"].unique()"
   ]
  },
  {
   "cell_type": "code",
   "execution_count": 9,
   "id": "6558d823-be7f-470c-9118-fa5f38e0c8de",
   "metadata": {},
   "outputs": [],
   "source": [
    "# remover coluna de providência e situação (não serão mais utilizadas)\n",
    "projetos.drop(\"providencia\", axis=1, inplace=True)\n",
    "projetos.drop(\"situacao\", axis=1, inplace=True)"
   ]
  },
  {
   "cell_type": "code",
   "execution_count": 10,
   "id": "137d0887-9753-45bb-8054-e42b49180e17",
   "metadata": {},
   "outputs": [],
   "source": [
    "# padronizando ano para formato 20XX\n",
    "projetos[\"ano_projeto\"] = 2000 + projetos[\"ano_projeto\"]"
   ]
  },
  {
   "cell_type": "code",
   "execution_count": 11,
   "id": "219e44b0-501b-49f9-b851-0d3536309c26",
   "metadata": {},
   "outputs": [],
   "source": [
    "# removendo datas inválidas\n",
    "datas_invalidas = [\"8201-08-28\", \"3204-03-31\", \"3015-01-31\", \"2424-12-31\", \"7014-10-10\"]\n",
    "filtro_data_termino_invalida = projetos[\"data_termino\"].str.contains(\"|\".join(datas_invalidas))\n",
    "\n",
    "if filtro_data_termino_invalida.any(axis=None):\n",
    "    for data in datas_invalidas:\n",
    "        projetos.loc[projetos[\"data_termino\"] == data, \"data_termino\"] = np.nan"
   ]
  },
  {
   "cell_type": "code",
   "execution_count": 15,
   "id": "178e2a83-d034-42e5-abd3-701d21f411bf",
   "metadata": {},
   "outputs": [],
   "source": [
    "# convertendo datas para datetime\n",
    "projetos[\"data_inicio\"] = pd.to_datetime(projetos[\"data_inicio\"])\n",
    "projetos[\"data_termino\"] = pd.to_datetime(projetos[\"data_termino\"])"
   ]
  },
  {
   "cell_type": "code",
   "execution_count": 12,
   "id": "ab1ee731-a3dc-44e5-b793-4186b34fcc1a",
   "metadata": {},
   "outputs": [],
   "source": [
    "# ajustando index após remoções\n",
    "projetos.set_index(np.arange(0, projetos.shape[0]), inplace=True)"
   ]
  },
  {
   "cell_type": "markdown",
   "id": "28b1f3a1-3a8c-4e4a-a0c9-163d34656813",
   "metadata": {},
   "source": [
    "Tratamento dos dados dos proponentes:"
   ]
  },
  {
   "cell_type": "code",
   "execution_count": null,
   "id": "bb694b31-185f-45e0-a69a-4b82397b73ea",
   "metadata": {},
   "outputs": [],
   "source": [
    "uf_invalidos = [\"  \", \"35\", \"33\", \"41\", \"51\", \"15\", \"26\", \"53\"]\n",
    "proponentes = proponentes[~(proponentes[\"UF\"].str.contains(\"|\".join(uf_invalidos))) & ~(proponentes[\"responsavel\"] == '.')]"
   ]
  },
  {
   "cell_type": "markdown",
   "id": "3ba92354-9732-4917-a063-19f5df6b13e4",
   "metadata": {},
   "source": [
    "Tratamento dos dados dos incentivadores:"
   ]
  },
  {
   "cell_type": "code",
   "execution_count": null,
   "id": "2baf09cf-3bb8-41ef-b057-84dfae7b36de",
   "metadata": {},
   "outputs": [],
   "source": [
    "uf_invalidos = [\"  \", \"13\", \"15\", \"17\", \"21\", \"22\", \"23\", \"25\", \"26\", \"27\", \"28\", \"29\", \"31\", \"32\", \"33\", \"35\", \"41\", \"42\", \"43\", \"50\", \"51\", \"52\", \"53\", \"NI\"]\n",
    "incentivadores = incentivadores[~incentivadores[\"UF\"].str.contains(\"|\".join(uf_invalidos))]"
   ]
  },
  {
   "cell_type": "markdown",
   "id": "db88b2cd-6052-4674-a47f-48c65c72acfe",
   "metadata": {},
   "source": [
    "#####"
   ]
  },
  {
   "cell_type": "markdown",
   "id": "ed110eb0-458a-4bd6-83c9-90c6a4e34095",
   "metadata": {},
   "source": [
    "**Analisar, criar e ajustar categorias relevantes.**"
   ]
  },
  {
   "cell_type": "markdown",
   "id": "38885b66-317f-4640-955a-88a0e0ed2fe9",
   "metadata": {},
   "source": [
    "Dividir estados por regiões do Brasil:"
   ]
  },
  {
   "cell_type": "code",
   "execution_count": null,
   "id": "16dad56b-e0c0-459e-9cb4-f6c7041b0e5e",
   "metadata": {},
   "outputs": [],
   "source": [
    "def regiao_do_uf(uf):\n",
    "    regioes = {\n",
    "        \"Centro Oeste\": [\"DF\", \"GO\", \"MS\", \"MT\"],\n",
    "        \"Nordeste\": [\"AL\", \"BA\", \"CE\", \"MA\", \"PB\", \"PE\", \"PI\", \"RN\", \"SE\"],\n",
    "        \"Norte\": [\"AC\", \"AM\", \"AP\", \"PA\", \"RO\", \"RR\", \"TO\"],\n",
    "        \"Sudeste\": [\"ES\", \"MG\", \"RJ\", \"SP\"],\n",
    "        \"Sul\": [\"PR\", \"RS\", \"SC\"]\n",
    "    }\n",
    "    for regiao, estados in regioes.items():\n",
    "        if uf in estados:\n",
    "            return regiao\n",
    "\n",
    "regioes = pd.Series(projetos[\"UF\"].apply(regiao_do_uf), name=\"regiao\")\n",
    "\n",
    "if \"regiao\" not in projetos.columns:\n",
    "    projetos = pd.concat([projetos, regioes], axis=1)"
   ]
  },
  {
   "cell_type": "code",
   "execution_count": null,
   "id": "f4b59879-24b9-45e9-aaca-436e5c081166",
   "metadata": {},
   "outputs": [],
   "source": [
    "minorias = [\"afro\", \"áfrica\", \"africa\", \"quilombola\", \"pessoas negras\", \"homem negro\", \"homem preto\", \"mulher negra\", \"mulher preta\", \"homens negros\", \"homens pretos\", \"mulheres negras\", \"mulheres pretas\", \n",
    "            \"índio\", \"indio\", \"povos originários\", \"povos originarios\", \"indígena\", \"indigena\", \"caiçara\", \n",
    "            \"baixa renda\", \"favela\", \"periferia\", \"pobre\", \"pessoas em situação de rua\", \"situação de vulnerabilidade\", \"mendigo\",\n",
    "            \"mulher\", \"feminino\",\n",
    "            \"homossex\", \"homofobia\", \"lgbt\", \"gay\", \"lésbica\", \"bissexua\", \"pessoas trans\", \"mulheres trans\", \"homens trans\", \"transsexua\", \"transgênero\", \"transgenero\", \"queer\",\n",
    "            \"pcd\", \"deficiência\", \"deficiencia\", \"deficiente\", \n",
    "            \"idoso\", \"idosa\", \"maior idade\",\n",
    "            \"imigrante\", \"cigano\", \"cigana\", \"refugiado\",\n",
    "            \"minoria\"\n",
    "           ]\n",
    "\n",
    "filtro1 = projetos[\"objetivos\"].isnull()\n",
    "filtro2 = projetos[\"objetivos\"].str.lower().str.contains(\"|\".join(minorias))\n",
    "\n",
    "arr_falsos = np.array([False for _ in range(projetos.shape[0])])\n",
    "voltado_para_minorias = pd.Series(arr_falsos, name=\"voltado_para_minorias\")\n",
    "voltado_para_minorias[projetos[~filtro1 & filtro2].index] = True\n",
    "\n",
    "if \"voltado_para_minorias\" not in projetos.columns:\n",
    "    projetos = pd.concat([projetos, voltado_para_minorias], axis=1)"
   ]
  },
  {
   "cell_type": "code",
   "execution_count": null,
   "id": "fefb6101-9a7f-458c-8059-5135ffdab75c",
   "metadata": {},
   "outputs": [],
   "source": [
    "# remover coluna de objetivos (não será mais utilizada)\n",
    "try:\n",
    "    projetos.drop(\"objetivos\", axis=1, inplace=True)\n",
    "except KeyError:\n",
    "    pass"
   ]
  },
  {
   "cell_type": "code",
   "execution_count": null,
   "id": "fd356cc8-e30b-4af5-a314-03a5b4d89959",
   "metadata": {},
   "outputs": [],
   "source": [
    "\n",
    "\n",
    "data_inicio = pd.to_datetime(projetos[\"data_inicio\"])\n",
    "data_termino = pd.to_datetime(projetos[\"data_termino\"])\n",
    "duracao = pd.Series(data_termino - data_inicio, name=\"duracao_dias\")\n",
    "\n",
    "if \"duracao_dias\" not in projetos.columns:\n",
    "    projetos = pd.concat([projetos, duracao], axis=1)"
   ]
  },
  {
   "cell_type": "markdown",
   "id": "d51090b5-f333-4728-b149-7eab97941392",
   "metadata": {},
   "source": [
    "####"
   ]
  },
  {
   "cell_type": "markdown",
   "id": "60b6e602-37d9-403c-b202-f24a99cb44ab",
   "metadata": {},
   "source": [
    "### 4. Analisar"
   ]
  },
  {
   "cell_type": "markdown",
   "id": "27d65acd-fef7-42b7-a4a7-c6c5ebc333e0",
   "metadata": {},
   "source": [
    "#### 4.1. Segmentação por áreas culturais\n",
    "\n",
    "**Classificar os projetos por categorias culturais (música, artes cênicas, audiovisual, etc.).**\n",
    "\n",
    "Inicialmente, realizei as contagens dos projetos segmentados por áreas."
   ]
  },
  {
   "cell_type": "code",
   "execution_count": null,
   "id": "ecc8a4dd-5660-4763-af49-1356308596af",
   "metadata": {},
   "outputs": [],
   "source": [
    "distribuicao_areas_brasil = projetos[\"area\"].value_counts(normalize=True) * 100\n",
    "\n",
    "areas_por_regioes = projetos.groupby(\"regiao\")[\"area\"].value_counts(normalize=True, sort=False) * 100\n",
    "arr_areas_por_regioes = np.array(areas_por_regioes).reshape(5, -1) # 5 regiões do Brasil\n",
    "arr_medias_areas_por_regioes = np.average(arr_areas_por_regioes, axis=0)\n",
    "\n",
    "rotulos = areas_por_regioes[projetos[\"regiao\"].iloc[0]].index\n",
    "medias_areas_por_regioes = pd.Series(arr_medias_areas_por_regioes, index=rotulos).sort_values(ascending=False)"
   ]
  },
  {
   "cell_type": "code",
   "execution_count": null,
   "id": "987c340a-dbbd-44db-93d0-9506d54299be",
   "metadata": {},
   "outputs": [],
   "source": [
    "plt.rcParams.update({\"font.size\": 6})\n",
    "cores = [\"#c9184a\", \"#ff758f\", \"#ffccd5\", \"#caf0f8\", \n",
    "          \"#90e0ef\", \"#00b4d8\", \"#0077b6\", \"#03045e\"]\n",
    "separacao_fatia = (0.1, 0, 0, 0, 0, 0, 0, 0)\n",
    "\n",
    "fig, (ax1, ax2) = plt.subplots(nrows=1, ncols=2, figsize=(10, 4), dpi=200)\n",
    "\n",
    "\n",
    "def plot_pizza(dados, axis):\n",
    "    axis.pie(\n",
    "        dados, \n",
    "        labels=dados.index, \n",
    "        autopct='%1.1f%%', \n",
    "        pctdistance=0.75,\n",
    "        counterclock=False,\n",
    "        colors=cores, \n",
    "        explode=separacao_fatia\n",
    "    )\n",
    "\n",
    "\n",
    "plot_pizza(distribuicao_areas_brasil, ax1)\n",
    "plot_pizza(medias_areas_por_regioes, ax2)\n",
    "\n",
    "fig.suptitle('Projetos por categoria', fontsize=15, fontweight=1000, y=1.02)\n",
    "ax1.set_title('Território nacional', fontsize=10, fontweight=600)\n",
    "ax2.set_title('Média das regiões', fontsize=10, fontweight=600)\n",
    "\n",
    "plt.tight_layout()\n",
    "plt.show()"
   ]
  },
  {
   "cell_type": "markdown",
   "id": "bb7bdec2-46d5-4d9c-b9a5-45d70f2ecf31",
   "metadata": {},
   "source": [
    "#####"
   ]
  },
  {
   "cell_type": "markdown",
   "id": "99a59bae-1127-45bc-9ed8-cc6e25869750",
   "metadata": {},
   "source": [
    "**Verificar a distribuição das áreas ao longo dos anos.**"
   ]
  },
  {
   "cell_type": "code",
   "execution_count": null,
   "id": "b9526b19-f67f-4268-9b8d-a5654dab3e45",
   "metadata": {},
   "outputs": [],
   "source": [
    "anos_por_areas = projetos.groupby(\"area\")[\"ano_projeto\"].value_counts().sort_index()\n",
    "\n",
    "ordenacao = medias_areas_por_regioes.argsort()[::-1]\n",
    "rotulos_areas = projetos[\"area\"].unique()[ordenacao]\n",
    "rotulos_anos = projetos[\"ano_projeto\"].unique()\n",
    "\n",
    "anos_por_areas_todos_anos = [[anos_por_areas.get(area)[ano]\n",
    "                              if ano in anos_por_areas.get(area).index else 0\n",
    "                              for ano in rotulos_anos]\n",
    "                             for area in rotulos_areas]"
   ]
  },
  {
   "cell_type": "code",
   "execution_count": null,
   "id": "d09ec578-ae39-42ec-9730-5afd88162f0d",
   "metadata": {},
   "outputs": [],
   "source": [
    "plt.rcParams.update({\"font.size\": 6})\n",
    "cores = [\"#c9184a\", \"#ff758f\", \"#ffccd5\", \"#caf0f8\", \n",
    "          \"#90e0ef\", \"#00b4d8\", \"#0077b6\", \"#03045e\"]\n",
    "\n",
    "plt.figure(figsize=(10, 4), dpi=200)\n",
    "\n",
    "for qtd_projetos, area, cor in zip(anos_por_areas_todos_anos, rotulos_areas, cores):\n",
    "    plt.plot(\n",
    "        rotulos_anos,\n",
    "        qtd_projetos,\n",
    "        label=area,\n",
    "        color=cor\n",
    "    )\n",
    "\n",
    "plt.title(\"Quantidade de projetos por categoria ao longo dos anos\", fontsize=15, fontweight=1000, y=1.1)\n",
    "\n",
    "plt.xlabel(\"Anos\")\n",
    "plt.ylabel(\"Quantidade de projetos\")\n",
    "\n",
    "plt.xticks(rotulos_anos)\n",
    "\n",
    "plt.legend(title=\"Áreas culturais\")\n",
    "\n",
    "plt.tight_layout()\n",
    "plt.show()"
   ]
  },
  {
   "cell_type": "markdown",
   "id": "172645b6-a575-48b7-b60e-13ec29ff53b3",
   "metadata": {},
   "source": [
    "#####"
   ]
  },
  {
   "cell_type": "markdown",
   "id": "540e1180-dd88-4fc9-a781-4b0e5b3f0d40",
   "metadata": {},
   "source": [
    "**Verificar a duração média do projeto por categoria.**"
   ]
  },
  {
   "cell_type": "code",
   "execution_count": null,
   "id": "61df46fd-e569-44d9-b364-080e12f2a810",
   "metadata": {},
   "outputs": [],
   "source": [
    "duracao_por_area = projetos.groupby(\"area\")[\"duracao_dias\"].mean().sort_values()\n",
    "duracao_por_area"
   ]
  },
  {
   "cell_type": "markdown",
   "id": "b2b3842c-1957-48f8-be01-ec4009bc72ea",
   "metadata": {},
   "source": [
    "####"
   ]
  },
  {
   "cell_type": "markdown",
   "id": "45c25a03-aac9-494d-af5f-bcda3588ddea",
   "metadata": {},
   "source": [
    "#### 4.2. Participação geográfica\n",
    "\n",
    "**Visualizar a participação geográfica dos projetos.**\n",
    "\n",
    "Inicialmente, realizei a contagem de projetos por regiões e por estados e plotei os resultados em um gráfico."
   ]
  },
  {
   "cell_type": "code",
   "execution_count": null,
   "id": "454d25e5-ee2c-4a7e-9768-1be954e2f0c9",
   "metadata": {},
   "outputs": [],
   "source": [
    "warnings.filterwarnings(\"ignore\")\n",
    "\n",
    "projetos_por_regiao = projetos[\"regiao\"].value_counts().rename(\"qtd_projetos\")\n",
    "regioes = geobr.read_region() # Download do mapa do Brasil dividido por regiões\n",
    "regioes = regioes.merge(projetos_por_regiao, how=\"left\", left_on=\"name_region\", right_on=\"regiao\")\n",
    "\n",
    "projetos_por_estados = projetos[\"UF\"].value_counts().rename(\"qtd_projetos\")\n",
    "estados = geobr.read_country(year=2020)  # Download do mapa do Brasil dividido por estados\n",
    "estados = estados.merge(projetos_por_estados, how=\"left\", left_on=\"abbrev_state\", right_on=\"UF\")"
   ]
  },
  {
   "cell_type": "code",
   "execution_count": null,
   "id": "00c48833-3e6b-498d-8321-a1178415d132",
   "metadata": {},
   "outputs": [],
   "source": [
    "plt.rcParams.update({\"font.size\": 6})\n",
    "\n",
    "fig, axs = plt.subplots(nrows=1, ncols=2, figsize=(8, 4), dpi=200)\n",
    "\n",
    "\n",
    "def plot_mapa(mapa, axis):\n",
    "    mapa.plot(\n",
    "        column=\"qtd_projetos\",\n",
    "        cmap=\"coolwarm\",\n",
    "        legend=True,\n",
    "        legend_kwds={\n",
    "            \"label\": \"Quantidade de projetos\",\n",
    "            \"orientation\": \"vertical\",\n",
    "            \"shrink\": 0.6,\n",
    "        },\n",
    "        ax=axis,\n",
    "    )\n",
    "\n",
    "    axis.axis(\"off\")\n",
    "\n",
    "\n",
    "plot_mapa(regioes, axs[0])\n",
    "plot_mapa(estados, axs[1])\n",
    "\n",
    "fig.suptitle('Projetos por localização', fontsize=12, fontweight=1000, y=0.95)\n",
    "axs[0].set_title(\"Regiões do Brasil\", fontsize=10, fontweight=600)\n",
    "axs[1].set_title(\"Estados do Brasil\", fontsize=10, fontweight=600)\n",
    "\n",
    "plt.tight_layout()\n",
    "plt.show()"
   ]
  },
  {
   "cell_type": "code",
   "execution_count": null,
   "id": "7815e148-1c0f-4d46-85d1-d3c91d24206a",
   "metadata": {},
   "outputs": [],
   "source": [
    "warnings.filterwarnings(\"default\")"
   ]
  },
  {
   "cell_type": "markdown",
   "id": "5c963002-ac4c-4db5-ae3d-edcab512b800",
   "metadata": {},
   "source": [
    "####"
   ]
  },
  {
   "cell_type": "markdown",
   "id": "51d1e6d3-07fc-420d-9d20-a7631958c13f",
   "metadata": {},
   "source": [
    "#### 4.3. Representividade sociocultural\n",
    "\n",
    "**Analisar se e como as minorias foram beneficiadas.**"
   ]
  },
  {
   "cell_type": "code",
   "execution_count": null,
   "id": "ae5a177d-0fad-40d8-b85d-4afcaa832bb9",
   "metadata": {},
   "outputs": [],
   "source": [
    "warnings.filterwarnings(\"ignore\")\n",
    "\n",
    "projetos_minorias = projetos[\"voltado_para_minorias\"].value_counts()\n",
    "\n",
    "\n",
    "projetos_por_ano_minorias = projetos.groupby(\"ano_projeto\")[\"voltado_para_minorias\"].value_counts()\n",
    "rotulos_anos = projetos_por_ano_minorias.index.get_level_values('ano_projeto')\n",
    "rotulos_anos_geral, rotulos_anos_minorias = np.array(rotulos_anos).reshape(-1, 2).T\n",
    "valores_anos_geral, valores_anos_minorias = projetos_por_ano_minorias.values.reshape(-1, 2).T"
   ]
  },
  {
   "cell_type": "code",
   "execution_count": null,
   "id": "507abeec-2026-4657-b047-b35eb618914c",
   "metadata": {},
   "outputs": [],
   "source": [
    "plt.rcParams.update({\"font.size\": 6})\n",
    "cores = [\"#c9184a\", \"#00b4d8\"]\n",
    "separacao_fatia = (0, 0.1)\n",
    "\n",
    "fig, axs = plt.subplot_mosaic([['a)', 'b)'], ['a)', 'c)']], layout='constrained', figsize=(10, 4), dpi=200)\n",
    "\n",
    "for i, (_, ax) in enumerate(axs.items(), 1):\n",
    "    if i == 1:\n",
    "        ax.pie(\n",
    "            projetos_minorias,\n",
    "            labels=[\"Geral\", \"Minorias sociais\"],\n",
    "            autopct=\"%1.1f%%\",\n",
    "            pctdistance=0.75,\n",
    "            colors=cores,\n",
    "            explode=separacao_fatia\n",
    "        )\n",
    "        \n",
    "        ax.set_title(\"Distribuição dos projetos\", fontsize=12, fontweight=600)\n",
    "    elif i == 2:\n",
    "        ax.plot(\n",
    "            rotulos_anos_geral,\n",
    "            valores_anos_geral,\n",
    "            color=cores[0]\n",
    "        )\n",
    "        \n",
    "        ax.set_title(\"Projetos para o público geral ao longo dos anos\", fontsize=9, fontweight=600)\n",
    "        \n",
    "        ax.set_xlabel(\"Anos\")\n",
    "        ax.set_ylabel(\"Quantidade de projetos\")\n",
    "\n",
    "        ax.set_xticks(rotulos_anos_geral)\n",
    "        \n",
    "    else:\n",
    "        ax.plot(\n",
    "            rotulos_anos_minorias,\n",
    "            valores_anos_minorias,\n",
    "            color=cores[1]\n",
    "        )\n",
    "        \n",
    "        ax.set_title(\"Projetos voltados para as minorias ao longo dos anos\", fontsize=9, fontweight=600)\n",
    "\n",
    "        ax.set_xlabel(\"Anos\")\n",
    "        ax.set_ylabel(\"Quantidade de projetos\")\n",
    "\n",
    "        ax.set_xticks(rotulos_anos_minorias)\n",
    "\n",
    "plt.suptitle(\"Projetos com foco nos grupos minoritários\", fontsize=15, fontweight=1000, y=1.05)\n",
    "\n",
    "plt.tight_layout()\n",
    "\n",
    "plt.show()"
   ]
  },
  {
   "cell_type": "code",
   "execution_count": null,
   "id": "b5f8fed4-35c0-43b2-8b4f-a35800a1029d",
   "metadata": {},
   "outputs": [],
   "source": [
    "minorias_por_area = projetos[projetos[\"voltado_para_minorias\"] == True][\"area\"].value_counts().sort_values(ascending=False)\n",
    "minorias_por_regiao = projetos[projetos[\"voltado_para_minorias\"] == True][\"regiao\"].value_counts().rename(\"qtd_projetos\")\n",
    "\n",
    "regioes = geobr.read_region() # Download do mapa do Brasil dividido por regiões\n",
    "regioes = regioes.merge(minorias_por_regiao, how=\"left\", left_on=\"name_region\", right_on=\"regiao\")"
   ]
  },
  {
   "cell_type": "code",
   "execution_count": null,
   "id": "926deacf-7b15-4b62-b63c-380d379f5923",
   "metadata": {},
   "outputs": [],
   "source": [
    "plt.rcParams.update({\"font.size\": 6})\n",
    "cores_area = [\"#c9184a\", \"#ff758f\", \"#ffccd5\", \"#caf0f8\", \n",
    "              \"#90e0ef\", \"#00b4d8\", \"#0077b6\", \"#03045e\"]\n",
    "cores_regiao = [\"#c9184a\", \"#ff758f\", \"#90e0ef\", \"#00b4d8\", \"#0077b6\"]\n",
    "separacao_fatia_area = (0.1, 0, 0, 0, 0, 0, 0, 0)\n",
    "separacao_fatia_regiao = (0.1, 0, 0, 0, 0)\n",
    "\n",
    "fig, (ax1, ax2) = plt.subplots(nrows=1, ncols=2, figsize=(10, 4), dpi=200)\n",
    "\n",
    "ax1.pie(\n",
    "    minorias_por_area,\n",
    "    labels=minorias_por_area.index,\n",
    "    autopct=\"%1.1f%%\",\n",
    "    pctdistance=0.75,\n",
    "    counterclock=False,\n",
    "    colors=cores_area,\n",
    "    explode=separacao_fatia_area\n",
    ")\n",
    "\n",
    "regioes.plot(\n",
    "        column=\"qtd_projetos\",\n",
    "        cmap=\"coolwarm\",\n",
    "        legend=True,\n",
    "        legend_kwds={\n",
    "            \"label\": \"Quantidade de projetos\",\n",
    "            \"orientation\": \"vertical\",\n",
    "            \"shrink\": 0.6,\n",
    "        },\n",
    "        ax=ax2,\n",
    "    )\n",
    "\n",
    "ax2.axis(\"off\")\n",
    "\n",
    "fig.suptitle('Segmentação dos projetos para grupos minoritários', fontsize=12, fontweight=1000, y=1.02)\n",
    "ax1.set_title('Por categoria', fontsize=10, fontweight=600)\n",
    "ax2.set_title('Por região', fontsize=10, fontweight=600)\n",
    "\n",
    "plt.tight_layout()\n",
    "plt.show()"
   ]
  },
  {
   "cell_type": "code",
   "execution_count": null,
   "id": "d5518fdd-5bf9-4a33-8011-0d97e34efaf0",
   "metadata": {},
   "outputs": [],
   "source": [
    "warnings.filterwarnings(\"default\")"
   ]
  },
  {
   "cell_type": "markdown",
   "id": "655cfdfa-2f0f-4970-9274-9ca739ee84a6",
   "metadata": {},
   "source": [
    "####"
   ]
  },
  {
   "cell_type": "markdown",
   "id": "b607843a-7fee-4410-8d93-a66f501cd83f",
   "metadata": {},
   "source": [
    "#### 4.4. Tipos de financiamentos\n",
    "\n",
    "**Explorar os mecanismos de incentivo à cultura.**\n",
    "\n",
    "Sobre os mecanismos utilizados pela Lei Rouanet:\n",
    "\n",
    "- Incentivo Fiscal (mecenato)\n",
    "\n",
    "O incentivo é um mecanismo em que a União faculta às pessoas físicas ou jurídicas a opção pela aplicação de parcelas do Imposto sobre a Renda, a título de doações ou patrocínios, no apoio direto a projetos culturais aprovados pelo Ministério da Cultura. Ou seja: o Governo Federal oferece uma ferramenta para que a sociedade possa decidir aplicar parte do dinheiro de seus impostos em ações culturais. Desta maneira, o incentivo fiscal estimula a participação da iniciativa privada, do mercado empresarial e dos cidadãos no aporte de recursos para o campo da cultura, diversificando possibilidades de financiamento, ampliando o volume de recursos destinados ao setor, atribuindo a ele mais potência e mais estratégia econômica.\n",
    "\n",
    "- Fundo Nacional da Cultura (FNC)\n",
    "\n",
    "O Fundo Nacional da Cultura (FNC) representa o investimento direto do Estado no fomento à Cultura, já que o apoio a projetos decorre de recursos do orçamento da União dentre outras fontes, como 3% do valor bruto arrecado pelas loterias federais e doações. O apoio via FNC tem como objetivo promover a distribuição regional dos recursos de forma equilibrada e é voltado aos projetos com maior dificuldade de captação junto ao mercado."
   ]
  },
  {
   "cell_type": "markdown",
   "id": "85cb9497-c972-4116-bb5a-2799bcf2940f",
   "metadata": {},
   "source": [
    "**Filtros:**"
   ]
  },
  {
   "cell_type": "code",
   "execution_count": null,
   "id": "ca1138c8-1032-44dd-80d7-aff33e73c499",
   "metadata": {},
   "outputs": [],
   "source": [
    "filtro_mecanismo_mecenato = projetos[\"mecanismo\"] == \"Mecenato\"\n",
    "filtro_mecanismo_fnc = projetos[\"mecanismo\"] == \"FNC\"\n",
    "\n",
    "situacao_captacao_projetos = [\"Arquivado - por excesso de prazo sem captação\", \n",
    "                              \"Projeto encerrado por excesso de prazo sem captação\", \n",
    "                              \"Arquivado - atingiu 24 meses de aprovação sem captação de recursos\", \n",
    "                              \"Projeto não executado por insuficiência de captação de recursos\"]\n",
    "\n",
    "filtro_situacao_dificuldade_captacao = projetos[\"situacao\"].str.contains(\"|\".join(situacao_captacao_projetos))\n",
    "\n",
    "filtro_enquadramento_artigo18 = projetos[\"enquadramento\"] == \"Artigo 18\"\n",
    "filtro_enquadramento_artigo26 = projetos[\"enquadramento\"] == \"Artigo 26\""
   ]
  },
  {
   "cell_type": "markdown",
   "id": "61cbc645-ca02-446c-bd2a-ad9f2604d393",
   "metadata": {},
   "source": [
    "**Análises:**"
   ]
  },
  {
   "cell_type": "code",
   "execution_count": null,
   "id": "664d065c-6f18-40ac-ae94-f5465d3082f6",
   "metadata": {},
   "outputs": [],
   "source": [
    "mecanismos = projetos[\"mecanismo\"].value_counts(normalize=True) * 100\n",
    "\n",
    "mecenato_por_anos = projetos[filtro_mecanismo_mecenato][\"ano_projeto\"].value_counts().sort_index()\n",
    "fnc_por_anos = projetos[filtro_mecanismo_fnc][\"ano_projeto\"].value_counts().sort_index()"
   ]
  },
  {
   "cell_type": "code",
   "execution_count": null,
   "id": "e2c850f1-a984-4a7d-9b47-6f3ef90e22c9",
   "metadata": {},
   "outputs": [],
   "source": [
    "plt.rcParams.update({\"font.size\": 6})\n",
    "cores = [\"#c9184a\", \"#48cae4\"]\n",
    "separacao_fatia = (0, 0.1)\n",
    "\n",
    "fig, (ax1, ax2) = plt.subplots(nrows=1, ncols=2, figsize=(10, 4), dpi=200)\n",
    "\n",
    "ax1.pie(\n",
    "    mecanismos,\n",
    "    labels=mecanismos.index,\n",
    "    autopct=\"%1.1f%%\",\n",
    "    counterclock=False,\n",
    "    colors=cores,\n",
    "    explode=separacao_fatia\n",
    ")\n",
    "\n",
    "ax2.plot(\n",
    "    mecenato_por_anos.index, \n",
    "    mecenato_por_anos, \n",
    "    cores[0],\n",
    "    \n",
    "    fnc_por_anos.index,\n",
    "    fnc_por_anos,\n",
    "    cores[1],\n",
    "    \n",
    "    marker=\"o\",\n",
    "    markersize=4\n",
    ")\n",
    "\n",
    "\n",
    "def rotulos_pontos(arr_index, arr, ax):\n",
    "    for x, y in zip(arr_index, arr):\n",
    "        rotulo = \"{}\".format(y)\n",
    "        ax.annotate(\n",
    "            rotulo,\n",
    "            (x, y),\n",
    "            textcoords=\"offset points\",\n",
    "            xytext=(0, 6),\n",
    "            fontsize=4,\n",
    "            ha='center'\n",
    "        )\n",
    "\n",
    "\n",
    "rotulos_pontos(mecenato_por_anos.index, mecenato_por_anos, ax2)\n",
    "rotulos_pontos(fnc_por_anos.index, fnc_por_anos, ax2)\n",
    "\n",
    "plt.suptitle(\"Mecanismos dos projetos\", fontsize=15, fontweight=1000, y=1.05)\n",
    "ax1.set_title(\"Distribuição dos projetos\", fontsize=10, fontweight=600)\n",
    "ax2.set_title(\"Mudança ao longo dos anos\", fontsize=10, fontweight=600)\n",
    "\n",
    "plt.xlabel(\"Anos\")\n",
    "plt.ylabel(\"Quantidade de projetos\")\n",
    "\n",
    "ax2.legend([\"Mecenato\", \"FNC\"])\n",
    "\n",
    "plt.ylim(bottom=0, top=13000)\n",
    "\n",
    "plt.tight_layout()\n",
    "plt.show()"
   ]
  },
  {
   "cell_type": "markdown",
   "id": "0e7536b1-15d3-426d-b318-437df1e6ce65",
   "metadata": {},
   "source": [
    "Ao longo dos anos, a maior fatia dos projetos foi financiada pelo mecenato, sendo que o financiamento pelo estado ocorreu em 27,7% dos projetos.\n",
    "\n",
    "Curiosamente, as Artes Integradas, área que representa a maior quantidade de projetos no Brasil e suas respectivas regiões, tem a grande maioria de seus projetos financiados pelo Estado. Segundo os dados, além das Artes Integradas, apenas 1 outro projeto foi financiado com o mecanismo do FNC, na área de Audiovisual. O restante dos projetos foram financiados via mecenato. Este projeto de Audiovisual será considerado uma anomalia e descartado para esta análise."
   ]
  },
  {
   "cell_type": "code",
   "execution_count": null,
   "id": "87902a1b-61b6-4de6-b4e6-c7a7fce6e526",
   "metadata": {},
   "outputs": [],
   "source": [
    "# por area\n",
    "mecenatos_por_area = projetos[filtro_mecanismo_mecenato][\"area\"].value_counts().sort_values(ascending=False)\n",
    "fnc_por_area = projetos[filtro_mecanismo_fnc][\"area\"].value_counts()\n",
    "\n",
    "# por regiao\n",
    "mecenato_por_regiao = projetos[filtro_mecanismo_mecenato][\"regiao\"].value_counts().sort_index()\n",
    "fnc_por_regiao = projetos[filtro_mecanismo_fnc][\"regiao\"].value_counts().sort_index()"
   ]
  },
  {
   "cell_type": "code",
   "execution_count": null,
   "id": "20266047-e988-4ecb-83b1-5421fa65bd86",
   "metadata": {},
   "outputs": [],
   "source": [
    "plt.rcParams.update({\"font.size\": 6})\n",
    "cores_mecenato = [\"#a4133c\", \"#c9184a\", \"#ff4d6d\", \"#ff758f\", \n",
    "          \"#ff8fa3\", \"#ffb3c1\", \"#ffccd5\", \"#fff0f3\"]\n",
    "cor_fnc = [\"#0096c7\"]\n",
    "cores = [\"#c9184a\", \"#0096c7\"]\n",
    "rotulos = mecenato_por_regiao.index\n",
    "localizacao_rotulos = np.arange(len(rotulos))\n",
    "largura = 0.35\n",
    "\n",
    "fig, (ax1, ax2) = plt.subplots(nrows=1, ncols=2, figsize=(10, 4), dpi=200)\n",
    "\n",
    "ax1.pie(\n",
    "    mecenatos_por_area,\n",
    "    labels=mecenatos_por_area.index,\n",
    "    autopct=\"%1.1f%%\",\n",
    "    pctdistance=0.83,\n",
    "    radius=1.2, \n",
    "    wedgeprops={\"width\": 0.5, \"edgecolor\": 'w'},\n",
    "    colors=cores_mecenato\n",
    ")\n",
    "\n",
    "ax1.pie(\n",
    "    fnc_por_area,\n",
    "    labels=fnc_por_area.index,\n",
    "    labeldistance=0,\n",
    "    startangle=90,\n",
    "    autopct=\"%1.3f%%\",\n",
    "    pctdistance=0.75,\n",
    "    radius=0.8,\n",
    "    wedgeprops={\"width\": 0.4, \"edgecolor\": 'w'},\n",
    "    textprops={\"ha\": \"center\"},\n",
    "    colors=cor_fnc\n",
    ")\n",
    "\n",
    "\n",
    "def plot_barra(localizacao, dados, rotulo, cor, ax):\n",
    "    \n",
    "    if localizacao == \"esquerda\":\n",
    "        xco = localizacao_rotulos - largura / 2\n",
    "    elif localizacao == \"direita\":\n",
    "        xco = localizacao_rotulos + largura / 2\n",
    "    \n",
    "    barra = ax.bar(\n",
    "        x=xco, \n",
    "        height=dados, \n",
    "        width=largura, \n",
    "        label=rotulo, \n",
    "        color=cor\n",
    "    )\n",
    "\n",
    "    return barra\n",
    "\n",
    "\n",
    "def autolabel(barras, ax):\n",
    "    for barra in barras:\n",
    "        altura = barra.get_height()\n",
    "        ax.annotate(\n",
    "            text=f'{altura}',\n",
    "            xy=(barra.get_x() + barra.get_width() / 2, altura),\n",
    "            xytext=(0, 3),\n",
    "            textcoords=\"offset points\",\n",
    "            ha='center',\n",
    "            va='bottom'\n",
    "        )\n",
    "\n",
    "\n",
    "barras1 = plot_barra(\"esquerda\", mecenato_por_regiao, \"Mecenato\", cores[0], ax2)\n",
    "barras2 = plot_barra(\"direita\", fnc_por_regiao, \"FNC\", cores[1], ax2)\n",
    "\n",
    "autolabel(barras1, ax2)\n",
    "autolabel(barras2, ax2)\n",
    "\n",
    "fig.suptitle(\"Segmentação dos mecanismos por categoria e região\", fontsize=15, fontweight=1000, y=0.95)\n",
    "ax1.set_title(\"Mecanismos por categoria\", fontsize=10, fontweight=600, y = 1.05)\n",
    "ax2.set_title(\"Mecanismos por região\", fontsize=10, fontweight=600, y = 1.05)\n",
    "\n",
    "ax2.set_xlabel(\"Regiões do Brasil\")\n",
    "ax2.set_ylabel(\"Quantidade de projetos\")\n",
    "\n",
    "ax2.set_xticks(localizacao_rotulos)\n",
    "ax2.set_xticklabels(rotulos)\n",
    "\n",
    "ax2.legend(loc='upper right', bbox_to_anchor=(1, 1.25),\n",
    "          fancybox=True, shadow=True, fontsize=8)\n",
    "\n",
    "ax2.set_ylim(top=60000)\n",
    "\n",
    "plt.tight_layout()\n",
    "plt.show()"
   ]
  },
  {
   "cell_type": "markdown",
   "id": "8fa44af7-7197-4648-a08e-b8ef9fd7738c",
   "metadata": {},
   "source": [
    "Em relação à divisão regional, percebe-se que os empresários financiam mais projetos no sul e sudeste (de forma expressiva). No Norte, o FNC ultrapassa o Incentivo Fiscal como mecanismo, enquanto no Nordeste e Centro Oeste ambos mecanismos estão em patamares próximos."
   ]
  },
  {
   "cell_type": "markdown",
   "id": "7596d4a9-165b-4bb8-8b22-364470ab8905",
   "metadata": {},
   "source": [
    "#####"
   ]
  },
  {
   "cell_type": "markdown",
   "id": "86ac07ea-34f6-4178-a3c0-b57156705de2",
   "metadata": {},
   "source": [
    "**Explorar os cálculos de isenção fiscal**\n",
    "\n",
    "Projetos aprovados no Artigo 18 da Lei Rouanet podem ser patrocinados com 100% de isenção fiscal, tanto por pessoa jurídica quanto física, enquanto projetos aprovados no Artigo 26 da Lei Rouanet oferecem os seguintes limites de isenção fiscal:\n",
    "\n",
    "Pessoa Jurídica\n",
    "\n",
    "- 40% do valor incentivado, no caso de doação.\n",
    "- 30% do valor incentivado, no caso de patrocínio.\n",
    "\n",
    "Pessoa Física\n",
    "\n",
    "- 80% do valor incentivado, no caso de doação.\n",
    "- 60% do valor incentivado, no caso de patrocínio.\n",
    "\n",
    "Abeixo está uma relação sobre os projetos enquadrados"
   ]
  },
  {
   "cell_type": "code",
   "execution_count": null,
   "id": "b95ee2f9-a234-47af-9aaa-87cd944ef1ec",
   "metadata": {},
   "outputs": [],
   "source": [
    "artigo18 = projetos[filtro_enquadramento_artigo18]\n",
    "artigo26 = projetos[filtro_enquadramento_artigo26]\n",
    "enquadrados = pd.DataFrame([artigo18.shape[0], artigo26.shape[0]],\n",
    "                           index=[\"Artigo 18\", \"Artigo 26\"],\n",
    "                           columns=[\"qtd_projetos\"])\n",
    "enquadrados = enquadrados.sort_values(by=\"qtd_projetos\", ascending=False)\n",
    "display(enquadrados)"
   ]
  },
  {
   "cell_type": "code",
   "execution_count": null,
   "id": "2d4024d7-8d37-4d52-8511-583ff192272e",
   "metadata": {},
   "outputs": [],
   "source": [
    "filtro_artigo26_com_captacao = artigo26[\"valor_captado\"] != 0\n",
    "filtro_artigo18_com_captacao = artigo18[\"valor_captado\"] != 0\n",
    "\n",
    "qtd_projetos_artigo26 = artigo26.shape[0]\n",
    "qtd_projetos_artigo26_com_captacao = artigo26[filtro_artigo26_com_captacao].shape[0]\n",
    "\n",
    "qtd_projetos_artigo18 = artigo18.shape[0]\n",
    "qtd_projetos_artigo18_com_captacao = artigo18[filtro_artigo18_com_captacao].shape[0]\n",
    "\n",
    "pct_captacao_artigo26 = qtd_projetos_artigo26_com_captacao / qtd_projetos_artigo26 * 100\n",
    "pct_captacao_artigo18 = qtd_projetos_artigo18_com_captacao / qtd_projetos_artigo18 * 100"
   ]
  },
  {
   "cell_type": "code",
   "execution_count": null,
   "id": "2d4766f8-7b85-4784-92ad-f2c0dd7067cb",
   "metadata": {},
   "outputs": [],
   "source": [
    "plt.rcParams.update({\"font.size\": 6})\n",
    "cores = [\"#c9184a\", \"#0096c7\"]\n",
    "separacao_fatia = (0.1, 0.0)\n",
    "\n",
    "fig, (ax1, ax2) = plt.subplots(nrows=1, ncols=2, figsize=(10, 4), dpi=200)\n",
    "\n",
    "pedacos = ax1.pie(\n",
    "    enquadrados.values.flatten(),\n",
    "    labels=enquadrados.index,\n",
    "    autopct=\"%1.1f%%\",\n",
    "    pctdistance=0.75,\n",
    "    colors=cores,\n",
    "    explode=separacao_fatia\n",
    ")\n",
    "\n",
    "barras = ax2.bar(\n",
    "    [\"Artigo 18\", \"Artigo 26\"],\n",
    "    [pct_captacao_artigo18, pct_captacao_artigo26],\n",
    "    width=0.5,\n",
    "    color=cores\n",
    ")\n",
    "\n",
    "for i, barra in enumerate(barras):\n",
    "    altura = barra.get_height()\n",
    "    ax2.annotate(\n",
    "        text=f'{altura:.2f}%',\n",
    "        xy=(barra.get_x() + barra.get_width() / 2, altura),\n",
    "        xytext=(0, 3),\n",
    "        textcoords=\"offset points\",\n",
    "        ha='center',\n",
    "        va='bottom'\n",
    "    )\n",
    "\n",
    "fig.suptitle(\"Enquadramentos dos projetos financiados pelo Mecenato\", fontsize=15, fontweight=1000, y=1.05)\n",
    "\n",
    "ax1.set_title(\"Distribuição dos projetos\", fontsize=10, fontweight=600)\n",
    "ax2.set_title(\"Projetos que tiveram captação de recursos*\", fontsize=10, fontweight=600)\n",
    "\n",
    "ax2.annotate(\n",
    "    '*Em relação ao total de projetos com o mesmo tipo de enquadramento.',\n",
    "    xy = (0, -0.1),\n",
    "    xycoords='axes fraction',\n",
    "    ha='left',\n",
    "    va=\"center\"\n",
    ")\n",
    "\n",
    "\n",
    "ax2.set_ylim(0, 50)\n",
    "ax2.set_xlim(-0.5, 1.5)\n",
    "\n",
    "plt.tight_layout()\n",
    "plt.show()"
   ]
  },
  {
   "cell_type": "code",
   "execution_count": null,
   "id": "43f48178-0aef-4128-9010-2d3f398ff626",
   "metadata": {},
   "outputs": [],
   "source": [
    "# calcular media de dinheiro incentivado pelo mecenato (não entra na isenção fiscal do Artigo 26)"
   ]
  },
  {
   "cell_type": "markdown",
   "id": "32f4896e-03b7-4e0b-b7f8-6223dbf8322e",
   "metadata": {},
   "source": [
    "####"
   ]
  },
  {
   "cell_type": "markdown",
   "id": "4623fdda-0fe4-42c3-9b48-c1188fe636ac",
   "metadata": {},
   "source": [
    "#### 4.5. Distribuição de recursos\n",
    "\n",
    "**Analisar a dificuldade na captação de recursos.**\n",
    "\n",
    "É preciso considerar que apenas projetos cujo mecanismo é o Mecenato possuem a etapa de captação de recursos na hora de calcular a porcentagem de projetos que tiveram dificuldade em captar recursos em relação ao total de projetos. \n",
    "\n",
    "Logo, foram considerados no cálculo apenas aqueles cujo mecanismo é o Incentivo Fiscal, vulgo mecenato."
   ]
  },
  {
   "cell_type": "code",
   "execution_count": null,
   "id": "30741a1a-5282-4298-833c-814aec553f80",
   "metadata": {},
   "outputs": [],
   "source": [
    "dificuldade_captacao_recursos = projetos[filtro_situacao_dificuldade_captacao]\n",
    "projetos_via_mecenato_area = projetos[filtro_mecanismo_mecenato][\"area\"].value_counts().sort_index()\n",
    "dificuldade_captacao_recursos_area = dificuldade_captacao_recursos[\"area\"].value_counts().sort_index()\n",
    "dificuldade_area_sobre_total = dificuldade_captacao_recursos_area / projetos_via_mecenato_area * 100\n",
    "\n",
    "valores_por_area = dificuldade_captacao_recursos.groupby(\"area\")[\"valor_aprovado\"].sum().sort_values(ascending=False)"
   ]
  },
  {
   "cell_type": "code",
   "execution_count": null,
   "id": "6606d7c9-917f-4841-a6ea-ebbe4ab71490",
   "metadata": {},
   "outputs": [],
   "source": [
    "plt.rcParams.update({\"font.size\": 6})\n",
    "cores = [\"#c9184a\", \"#ff758f\", \"#ffccd5\", \"#caf0f8\", \n",
    "          \"#90e0ef\", \"#00b4d8\", \"#0077b6\", \"#03045e\"]\n",
    "separacao_fatia = (0.1, 0, 0, 0, 0, 0, 0, 0)\n",
    "\n",
    "fig, (ax1, ax2) = plt.subplots(nrows=1, ncols=2, figsize=(12, 4), dpi=200)\n",
    "\n",
    "barras = ax1.bar(\n",
    "    dificuldade_area_sobre_total.index,\n",
    "    dificuldade_area_sobre_total, \n",
    "    color=cores[0], \n",
    "    width=0.4,\n",
    ")\n",
    "\n",
    "for barra in barras:\n",
    "    altura = barra.get_height()\n",
    "    ax1.annotate(\n",
    "        text=f'{altura:.2f}%',\n",
    "        xy=(barra.get_x() + barra.get_width() / 2, altura),\n",
    "        xytext=(0, 3),\n",
    "        textcoords=\"offset points\",\n",
    "        ha='center',\n",
    "        va='bottom'\n",
    "    )\n",
    "\n",
    "plt.rcParams.update({\"font.size\": 8})\n",
    "\n",
    "ax2.pie(\n",
    "    valores_por_area,\n",
    "    labels=valores_por_area.index,\n",
    "    autopct=\"%1.1f%%\",\n",
    "    pctdistance=0.75,\n",
    "    counterclock=False,\n",
    "    colors=cores,\n",
    "    explode=separacao_fatia\n",
    ")\n",
    "\n",
    "fig.suptitle(\"Dificuldade na captação de recursos\", fontsize=18, fontweight=1000, y=1.05)\n",
    "ax1.set_title('Projetos com dificuldade (por área)', fontsize=12, fontweight=600)\n",
    "ax2.set_title('Distribuição do montante aprovado*', fontsize=12, fontweight=600)\n",
    "\n",
    "ax1.set_xlabel('Áreas culturais')\n",
    "ax1.set_ylabel('Porcentagem em relação aos projetos de mecenato')\n",
    "\n",
    "ax1.set_ylim(0, 50)\n",
    "\n",
    "ax2.annotate(\"*Em relação aos projetos com dificuldade\", xy=(-0.2, -0.05), xycoords='axes fraction', ha='left', va=\"center\")\n",
    "\n",
    "fig.tight_layout()\n",
    "plt.show();"
   ]
  },
  {
   "cell_type": "markdown",
   "id": "8d3f61d9-20cd-4422-93f8-78e7a3b67c6b",
   "metadata": {},
   "source": [
    "#####"
   ]
  },
  {
   "cell_type": "markdown",
   "id": "162a250a-85d8-460b-a4d1-91c41732aece",
   "metadata": {},
   "source": [
    "**Analisar a distribuição de recursos por categoria.**"
   ]
  },
  {
   "cell_type": "code",
   "execution_count": null,
   "id": "bb8446af-6271-457e-82c2-bb8701ed0756",
   "metadata": {},
   "outputs": [],
   "source": [
    "# copia_projetos = projetos.copy()\n",
    "\n",
    "# ufs = np.sort(copia_projetos[\"UF\"].unique())\n",
    "# areas = np.sort(copia_projetos[\"area\"].unique())\n",
    "# mecanismos = np.sort(copia_projetos[\"mecanismo\"].unique())\n",
    "\n",
    "# copia_projetos[\"UF\"] = copia_projetos[\"UF\"].apply(lambda uf: np.where(ufs == uf)[0][0])\n",
    "# copia_projetos[\"area\"] = copia_projetos[\"area\"].apply(lambda area: np.where(areas == area)[0][0])\n",
    "# copia_projetos[\"mecanismo\"] = copia_projetos[\"mecanismo\"].apply(lambda mecanismo: np.where(mecanismos == mecanismo)[0][0])\n",
    "\n",
    "# copia_projetos[[\"UF\", \"area\", \"valor_captado\", \"valor_aprovado\", \"mecanismo\"]].corr()"
   ]
  },
  {
   "cell_type": "code",
   "execution_count": null,
   "id": "f7f97fae-928d-4013-a6e1-d48f7240ae13",
   "metadata": {},
   "outputs": [],
   "source": [
    "# areas mais lucrativas (maior valor captado - média por projeto)\n",
    "# areas mais caras (maior valor aprovado - média por projeto)\n",
    "# relacao entre valor aprovado e valor captado: quanto mais caro o projeto, mais dificil de captar os recursos?\n",
    "\n",
    "# captacao_por_area = projetos.groupby(\"area\")[\"valor_aprovado\"].sum()\n",
    "# valor_aprovado_por_area = projetos.groupby(\"area\")[\"valor_aprovado\"].sum()\n",
    "\n",
    "\n",
    "filtro_valor_captado_maior_que_zero = projetos[\"valor_captado\"] > 0\n",
    "filtro_valor_aprovado_maior_que_zero = projetos[\"valor_aprovado\"] > 0\n",
    "correlacao_captado_aprovado = projetos[filtro_valor_captado_maior_que_zero & filtro_valor_aprovado_maior_que_zero][[\"ano_projeto\", \"valor_captado\", \"valor_aprovado\"]]\n",
    "\n",
    "\n",
    "projetos[filtro_valor_captado_maior_que_zero & filtro_valor_aprovado_maior_que_zero][[\"valor_captado\", \"valor_aprovado\"]].corr()"
   ]
  },
  {
   "cell_type": "code",
   "execution_count": null,
   "id": "7a7ba7a6-8739-4070-9060-a52014eced35",
   "metadata": {},
   "outputs": [],
   "source": [
    "projetos[filtro_valor_captado_maior_que_zero & filtro_valor_aprovado_maior_que_zero].groupby(\"area\")[[\"valor_captado\", \"valor_aprovado\"]].corr()"
   ]
  },
  {
   "cell_type": "code",
   "execution_count": null,
   "id": "bbdf5c5c-099f-417e-b3ef-ea684dea5198",
   "metadata": {},
   "outputs": [],
   "source": [
    "projetos[filtro_valor_captado_maior_que_zero & filtro_valor_aprovado_maior_que_zero].groupby(\"regiao\")[[\"valor_captado\", \"valor_aprovado\"]].corr()"
   ]
  },
  {
   "cell_type": "code",
   "execution_count": null,
   "id": "df66a7e3-2ced-48b0-8a3f-a8caea4a6190",
   "metadata": {},
   "outputs": [],
   "source": [
    "plt.matshow(captacao_por_area.corr())\n",
    "\n",
    "plt.show()"
   ]
  },
  {
   "cell_type": "markdown",
   "id": "f263782f-0b47-46da-b02d-4921cd366117",
   "metadata": {},
   "source": [
    "#####"
   ]
  },
  {
   "cell_type": "markdown",
   "id": "85f2d1d2-d736-411c-9751-c5596afda0cc",
   "metadata": {},
   "source": [
    "**Analisar a distribuição de recursos por região.**"
   ]
  },
  {
   "cell_type": "code",
   "execution_count": null,
   "id": "e164e911-86ae-40da-9a1d-06daca4be57b",
   "metadata": {},
   "outputs": [],
   "source": []
  },
  {
   "cell_type": "markdown",
   "id": "c5bf9295-70e5-4058-8eaf-43191234439a",
   "metadata": {},
   "source": [
    "#####"
   ]
  },
  {
   "cell_type": "markdown",
   "id": "dfc6a2c2-d48c-416f-bb43-0e0096191d84",
   "metadata": {},
   "source": [
    "**Identificar os projetos que receberam a maior e menor quantidade de financiamento.**"
   ]
  },
  {
   "cell_type": "code",
   "execution_count": null,
   "id": "7a2c4fa9-620b-48f9-989b-fa9661aa75b4",
   "metadata": {},
   "outputs": [],
   "source": []
  },
  {
   "cell_type": "markdown",
   "id": "bfd1924f-07cf-44b7-be13-a8fa4ee00f6d",
   "metadata": {},
   "source": [
    "#####"
   ]
  },
  {
   "cell_type": "markdown",
   "id": "73ef01b7-664b-45d0-8e2e-3f7371a2625e",
   "metadata": {},
   "source": [
    "**Explorar a distribuição de recursos financeiros ao longo do tempo.**"
   ]
  },
  {
   "cell_type": "code",
   "execution_count": null,
   "id": "58250369-af11-4b19-806e-9786726230dd",
   "metadata": {},
   "outputs": [],
   "source": []
  },
  {
   "cell_type": "markdown",
   "id": "b51601f6-adae-4a3e-80eb-5fb64eeb7676",
   "metadata": {},
   "source": [
    "####"
   ]
  },
  {
   "cell_type": "markdown",
   "id": "5c814f73-d413-400b-8a1e-454da7eedb30",
   "metadata": {},
   "source": [
    "#### 4.6. Influência de grandes projetos\n",
    "\n",
    "**Identificar e analisar grandes projetos que receberam um montante significativo de financiamento. Como esses projetos influenciam a distribuição geral?**"
   ]
  },
  {
   "cell_type": "code",
   "execution_count": null,
   "id": "5beeb017-fbba-400d-a70a-5d0b4291cea9",
   "metadata": {},
   "outputs": [],
   "source": []
  },
  {
   "cell_type": "markdown",
   "id": "e4814e87-99e2-48d9-b3ea-510e6a9f2dd0",
   "metadata": {},
   "source": [
    "####"
   ]
  },
  {
   "cell_type": "markdown",
   "id": "331d25d8-ef74-4836-895a-3d835a89b5e2",
   "metadata": {},
   "source": [
    "#### 4.7. Recorte dos últimos anos\n",
    "\n",
    "**Refazer algumas análises anteriores considerando apenas os últimos X anos.**"
   ]
  },
  {
   "cell_type": "code",
   "execution_count": null,
   "id": "2eeaef65-47c8-46ae-8dc4-265785ad1b8d",
   "metadata": {},
   "outputs": [],
   "source": []
  },
  {
   "cell_type": "markdown",
   "id": "7d743a53-1dc4-4bb3-997c-b4de8c7aee9a",
   "metadata": {},
   "source": [
    "###"
   ]
  },
  {
   "cell_type": "markdown",
   "id": "a3ccecd3-4a77-4d6a-be3b-b5e2cfa3fd7d",
   "metadata": {},
   "source": [
    "### 5. Concluir\n",
    "\n",
    "**Resumir as principais descobertas do projeto.**"
   ]
  },
  {
   "cell_type": "code",
   "execution_count": null,
   "id": "3676a2cf-22bb-4574-967e-3ec7eed9e8a5",
   "metadata": {},
   "outputs": [],
   "source": []
  },
  {
   "cell_type": "markdown",
   "id": "0e554876-4357-4280-91b2-e6ef58b692ca",
   "metadata": {},
   "source": [
    "#####"
   ]
  },
  {
   "cell_type": "markdown",
   "id": "3192925e-b2bf-4a96-a0f1-71a6618fc49c",
   "metadata": {},
   "source": [
    "**Identificar padrões interessantes, tendências ao longo do tempo e qualquer insight que possa ser valioso para as partes interessadas e tomadores de decisão.**"
   ]
  },
  {
   "cell_type": "code",
   "execution_count": null,
   "id": "f490a3df-1bc4-4413-bae1-d877bfbd80e2",
   "metadata": {},
   "outputs": [],
   "source": []
  }
 ],
 "metadata": {
  "kernelspec": {
   "display_name": "Python 3 (ipykernel)",
   "language": "python",
   "name": "python3"
  },
  "language_info": {
   "codemirror_mode": {
    "name": "ipython",
    "version": 3
   },
   "file_extension": ".py",
   "mimetype": "text/x-python",
   "name": "python",
   "nbconvert_exporter": "python",
   "pygments_lexer": "ipython3",
   "version": "3.11.8"
  }
 },
 "nbformat": 4,
 "nbformat_minor": 5
}
