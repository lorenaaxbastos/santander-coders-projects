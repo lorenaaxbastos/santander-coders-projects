{
 "cells": [
  {
   "cell_type": "markdown",
   "id": "021a5304-43ef-478a-9d74-268a00db8fee",
   "metadata": {},
   "source": [
    "# Sobre o projeto\n",
    "\n",
    "Este projeto oferece a oportunidade de compreender melhor a distribuição de recursos culturais por meio da Lei Rouanet e extrair insights significativos sobre a diversidade e impacto dos projetos financiados. \n",
    "\n",
    "**Objetivo do projeto**\n",
    "\n",
    "Realizar uma análise exploratória de dados (EDA) no conjunto de dados da Lei Rouanet, buscando compreender padrões, tendências e insights relacionados aos projetos culturais financiados por meio dessa lei de incentivo à cultura no Brasil.\n",
    "\n",
    "## Passos do projeto\n",
    "\n",
    "**1. Coleta e Carregamento dos Dados**\n",
    "\n",
    "- Obter o dataset da Lei Rouanet, disponibilizado pelo Ministério da Cultura ou por fontes confiáveis relacionadas.\n",
    "- Carregar os dados em um DataFrame do pandas.\n",
    "\n",
    "**2. Exploração Inicial**\n",
    "\n",
    "- Fazer uma exploração inicial para entender a estrutura do dataset, tipos de variáveis e dados disponíveis.\n",
    "\n",
    "**3. Limpar e preparar os dados**\n",
    "\n",
    "- Tratar valores ausentes, inconsistências ou duplicatas.\n",
    "- Converter datas para o formato adequado.\n",
    "- Analisar e ajustar categorias relevantes.\n",
    "\n",
    "**4. Analisar a distribuição de recursos**\n",
    "\n",
    "- Explorar a distribuição de recursos financeiros ao longo do tempo.\n",
    "- Identificar os projetos que receberam a maior e menor quantidade de financiamento.\n",
    "\n",
    "**5. Segmentação por áreas culturais**\n",
    "\n",
    "- Classificar os projetos por categorias culturais (música, artes cênicas, audiovisual, etc.).\n",
    "- Analisar a distribuição de recursos por essas diferentes áreas.\n",
    "\n",
    "**6. Participação geográfica**\n",
    "\n",
    "- Visualizar a participação geográfica dos projetos. Qual região do Brasil recebeu mais incentivos culturais?\n",
    "\n",
    "**7. Evolução ao longo dos anos**\n",
    "\n",
    "- Criar gráficos de linha ou de área para mostrar a evolução do número de projetos financiados e do montante investido ao longo dos anos.\n",
    "\n",
    "**8. Análise de contrapartidas**\n",
    "\n",
    "- Explorar as contrapartidas oferecidas pelos proponentes dos projetos. Quais tipos de contrapartidas são mais comuns?\n",
    "\n",
    "**9. Influência de grandes projetos**\n",
    "\n",
    "- Identificar e analisar grandes projetos que receberam um montante significativo de financiamento. Como esses projetos influenciam a distribuição geral?\n",
    "\n",
    "**10. Análise de sucesso**\n",
    "\n",
    "- Definir critérios para o sucesso de um projeto (por exemplo, avaliação do público, impacto cultural) e explorar quais características estão associadas a projetos bem-sucedidos.\n",
    "\n",
    "**11. Conclusões e insights**\n",
    "\n",
    "- Resumir as principais descobertas do projeto.\n",
    "- Identificar padrões interessantes, tendências ao longo do tempo e qualquer insight que possa ser valioso para as partes interessadas e tomadores de decisão.\n",
    "\n",
    "## Ferramentas utilizadas\n",
    "\n",
    "- Python (pandas, numpy, matplotlib)\n",
    "- Jupyter Notebook para documentação e visualização interativa."
   ]
  },
  {
   "cell_type": "code",
   "execution_count": 1,
   "id": "6c57d808-1bb7-45a8-a416-5eb08d2c2884",
   "metadata": {},
   "outputs": [],
   "source": [
    "from os import path\n",
    "import numpy as np\n",
    "import pandas as pd"
   ]
  },
  {
   "cell_type": "code",
   "execution_count": 2,
   "id": "a925603b-41ee-4f5c-a559-c2afe30d2306",
   "metadata": {},
   "outputs": [],
   "source": [
    "fornecedores = pd.read_excel(path.abspath(\"datasets/fornecedores.xlsx\"))\n",
    "incentivadores = pd.read_excel(path.abspath(\"datasets/incentivadores.xlsx\"))\n",
    "projetos = pd.read_excel(path.abspath(\"datasets/projetos.xlsx\"))\n",
    "proponentes = pd.read_excel(path.abspath(\"datasets/proponentes.xlsx\"))\n",
    "propostas = pd.read_excel(path.abspath(\"datasets/propostas.xlsx\"))"
   ]
  },
  {
   "cell_type": "code",
   "execution_count": 6,
   "id": "c0d6cf10-82a2-490c-99e0-646567ae2c38",
   "metadata": {},
   "outputs": [
    {
     "data": {
      "text/plain": [
       "Index(['etapa', 'providencia', 'area', 'enquadramento', 'objetivos',\n",
       "       'ficha_tecnica', 'situacao', 'outras_fontes', 'acessibilidade',\n",
       "       'sinopse', 'nome', 'cgccpf', 'mecanismo', '_links', 'segmento',\n",
       "       'PRONAC', 'estrategia_execucao', 'valor_aprovado', 'justificativa',\n",
       "       'resumo', 'valor_solicitado', 'especificacao_tecnica', 'municipio',\n",
       "       'data_termino', 'UF', 'impacto_ambiental', 'democratizacao',\n",
       "       'valor_projeto', 'proponente', 'ano_projeto', 'data_inicio',\n",
       "       'valor_captado', 'valor_proposta'],\n",
       "      dtype='object')"
      ]
     },
     "execution_count": 6,
     "metadata": {},
     "output_type": "execute_result"
    }
   ],
   "source": [
    "projetos.columns"
   ]
  },
  {
   "cell_type": "code",
   "execution_count": 184,
   "id": "f9cfd9b0-7818-4f77-b467-7af05881b78c",
   "metadata": {},
   "outputs": [
    {
     "data": {
      "text/plain": [
       "regioes\n",
       "sudeste         62.261816\n",
       "sul             19.618906\n",
       "nordeste        12.536993\n",
       "centro-oeste     2.918780\n",
       "norte            2.663505\n",
       "Name: frequencia_relativa, dtype: float64"
      ]
     },
     "metadata": {},
     "output_type": "display_data"
    }
   ],
   "source": [
    "pd.set_option('display.max_rows', None)\n",
    "\n",
    "def regiao_do_uf(uf):\n",
    "    regioes = {\n",
    "        \"centro-oeste\": [\"GO\", \"MS\", \"MT\"],\n",
    "        \"nordeste\": [\"AL\", \"BA\", \"CE\", \"MA\", \"PB\", \"PE\", \"PI\", \"RN\", \"SE\"],\n",
    "        \"norte\": [\"AC\", \"AM\", \"AP\", \"PA\", \"RO\", \"RR\", \"TO\"],\n",
    "        \"sudeste\": [\"ES\", \"MG\", \"RJ\", \"SP\"],\n",
    "        \"sul\": [\"PR\", \"RS\", \"SC\"]\n",
    "    }\n",
    "    for regiao, estados in regioes.items():\n",
    "        if uf in estados:\n",
    "            return regiao\n",
    "\n",
    "regioes = pd.Series(projetos[\"UF\"].apply(regiao_do_uf), name=\"regioes\")\n",
    "\n",
    "if \"regioes\" not in projetos.columns:\n",
    "    projetos = pd.concat([projetos, regioes], axis=1)\n",
    "\n",
    "projetos_por_regiao = (projetos[\"regioes\"].value_counts(normalize=True) * 100).rename(\"frequencia_relativa\")\n",
    "display(projetos_por_regiao)"
   ]
  },
  {
   "cell_type": "code",
   "execution_count": 190,
   "id": "91d53213-5b3d-4a8c-a352-5eba10ac9f82",
   "metadata": {},
   "outputs": [
    {
     "data": {
      "text/plain": [
       "area\n",
       "Artes Integradas       39.051482\n",
       "Música                 20.443595\n",
       "Artes Cênicas          18.431945\n",
       "Humanidades             8.329808\n",
       "Audiovisual             5.939898\n",
       "Artes Visuais           4.873784\n",
       "Patrimônio Cultural     2.473629\n",
       "Museus e Memória        0.455860\n",
       "Name: frequencia_relativa, dtype: float64"
      ]
     },
     "metadata": {},
     "output_type": "display_data"
    }
   ],
   "source": [
    "areas_por_regioes = projetos.groupby(\"regioes\")[\"area\"].value_counts(normalize=True, sort=False) * 100\n",
    "medias_areas_por_regioes = np.average(np.array(areas_por_regioes).reshape(5, -1), axis=0) # 5 regiões do Brasil\n",
    "areas_por_projetos = pd.Series(medias_areas_por_regioes, index=areas_por_regioes['sudeste'].index, name=\"frequencia_relativa\").sort_values(ascending=False)\n",
    "display(areas_por_projetos)"
   ]
  }
 ],
 "metadata": {
  "kernelspec": {
   "display_name": "Python 3 (ipykernel)",
   "language": "python",
   "name": "python3"
  },
  "language_info": {
   "codemirror_mode": {
    "name": "ipython",
    "version": 3
   },
   "file_extension": ".py",
   "mimetype": "text/x-python",
   "name": "python",
   "nbconvert_exporter": "python",
   "pygments_lexer": "ipython3",
   "version": "3.12.1"
  }
 },
 "nbformat": 4,
 "nbformat_minor": 5
}
